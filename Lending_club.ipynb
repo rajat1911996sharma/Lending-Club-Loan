{
  "nbformat": 4,
  "nbformat_minor": 0,
  "metadata": {
    "colab": {
      "name": "Lending_club.ipynb",
      "provenance": [],
      "collapsed_sections": [],
      "authorship_tag": "ABX9TyOkmJ/mCt0NEBaaV0KRwpAx",
      "include_colab_link": true
    },
    "kernelspec": {
      "name": "python3",
      "display_name": "Python 3"
    }
  },
  "cells": [
    {
      "cell_type": "markdown",
      "metadata": {
        "id": "view-in-github",
        "colab_type": "text"
      },
      "source": [
        "<a href=\"https://colab.research.google.com/github/rajat1911996sharma/Lending-Club-Loan/blob/main/Lending_club.ipynb\" target=\"_parent\"><img src=\"https://colab.research.google.com/assets/colab-badge.svg\" alt=\"Open In Colab\"/></a>"
      ]
    },
    {
      "cell_type": "code",
      "metadata": {
        "id": "XQW2WLGG_xFJ"
      },
      "source": [
        "import pandas as pd\n",
        "import numpy as np\n",
        "import matplotlib.pyplot as plt\n",
        "import seaborn as sns\n",
        "%matplotlib inline"
      ],
      "execution_count": 170,
      "outputs": []
    },
    {
      "cell_type": "code",
      "metadata": {
        "id": "-EAiIkSkBK7A"
      },
      "source": [
        "data_info = pd.read_csv('lending_club_info.csv',index_col='LoanStatNew')"
      ],
      "execution_count": 171,
      "outputs": []
    },
    {
      "cell_type": "code",
      "metadata": {
        "colab": {
          "base_uri": "https://localhost:8080/"
        },
        "id": "zmTXlthhBelL",
        "outputId": "f7e2b74c-0d29-431f-e09a-ddbcfecc40d8"
      },
      "source": [
        "print(data_info.loc['revol_util']['Description'])"
      ],
      "execution_count": 172,
      "outputs": [
        {
          "output_type": "stream",
          "text": [
            "Revolving line utilization rate, or the amount of credit the borrower is using relative to all available revolving credit.\n"
          ],
          "name": "stdout"
        }
      ]
    },
    {
      "cell_type": "code",
      "metadata": {
        "colab": {
          "base_uri": "https://localhost:8080/",
          "height": 225
        },
        "id": "5_-R-oZxB0M7",
        "outputId": "63624e66-9544-44d5-9cc3-30ddc7976894"
      },
      "source": [
        "data_info.head()"
      ],
      "execution_count": 173,
      "outputs": [
        {
          "output_type": "execute_result",
          "data": {
            "text/html": [
              "<div>\n",
              "<style scoped>\n",
              "    .dataframe tbody tr th:only-of-type {\n",
              "        vertical-align: middle;\n",
              "    }\n",
              "\n",
              "    .dataframe tbody tr th {\n",
              "        vertical-align: top;\n",
              "    }\n",
              "\n",
              "    .dataframe thead th {\n",
              "        text-align: right;\n",
              "    }\n",
              "</style>\n",
              "<table border=\"1\" class=\"dataframe\">\n",
              "  <thead>\n",
              "    <tr style=\"text-align: right;\">\n",
              "      <th></th>\n",
              "      <th>Description</th>\n",
              "    </tr>\n",
              "    <tr>\n",
              "      <th>LoanStatNew</th>\n",
              "      <th></th>\n",
              "    </tr>\n",
              "  </thead>\n",
              "  <tbody>\n",
              "    <tr>\n",
              "      <th>loan_amnt</th>\n",
              "      <td>The listed amount of the loan applied for by t...</td>\n",
              "    </tr>\n",
              "    <tr>\n",
              "      <th>term</th>\n",
              "      <td>The number of payments on the loan. Values are...</td>\n",
              "    </tr>\n",
              "    <tr>\n",
              "      <th>int_rate</th>\n",
              "      <td>Interest Rate on the loan</td>\n",
              "    </tr>\n",
              "    <tr>\n",
              "      <th>installment</th>\n",
              "      <td>The monthly payment owed by the borrower if th...</td>\n",
              "    </tr>\n",
              "    <tr>\n",
              "      <th>grade</th>\n",
              "      <td>LC assigned loan grade</td>\n",
              "    </tr>\n",
              "  </tbody>\n",
              "</table>\n",
              "</div>"
            ],
            "text/plain": [
              "                                                   Description\n",
              "LoanStatNew                                                   \n",
              "loan_amnt    The listed amount of the loan applied for by t...\n",
              "term         The number of payments on the loan. Values are...\n",
              "int_rate                             Interest Rate on the loan\n",
              "installment  The monthly payment owed by the borrower if th...\n",
              "grade                                   LC assigned loan grade"
            ]
          },
          "metadata": {
            "tags": []
          },
          "execution_count": 173
        }
      ]
    },
    {
      "cell_type": "code",
      "metadata": {
        "id": "LEO9_0GbB7uA"
      },
      "source": [
        "def feat_info(col_name):\n",
        "    print(data_info.loc[col_name]['Description'])"
      ],
      "execution_count": 174,
      "outputs": []
    },
    {
      "cell_type": "code",
      "metadata": {
        "colab": {
          "base_uri": "https://localhost:8080/"
        },
        "id": "bWR07Hk9CBMv",
        "outputId": "7574922c-5a93-4c56-85fc-7cce5c6a09b9"
      },
      "source": [
        "feat_info('mort_acc')"
      ],
      "execution_count": 175,
      "outputs": [
        {
          "output_type": "stream",
          "text": [
            "Number of mortgage accounts.\n"
          ],
          "name": "stdout"
        }
      ]
    },
    {
      "cell_type": "code",
      "metadata": {
        "id": "vv1BRvMnCJQZ"
      },
      "source": [
        "df = pd.read_csv('lending_club_loan_two.csv')"
      ],
      "execution_count": 176,
      "outputs": []
    },
    {
      "cell_type": "code",
      "metadata": {
        "colab": {
          "base_uri": "https://localhost:8080/",
          "height": 383
        },
        "id": "vBx9gCDrEZcF",
        "outputId": "52c4ee66-e4c8-41c1-e5d2-36e3cac62d78"
      },
      "source": [
        "df.head()"
      ],
      "execution_count": 177,
      "outputs": [
        {
          "output_type": "execute_result",
          "data": {
            "text/html": [
              "<div>\n",
              "<style scoped>\n",
              "    .dataframe tbody tr th:only-of-type {\n",
              "        vertical-align: middle;\n",
              "    }\n",
              "\n",
              "    .dataframe tbody tr th {\n",
              "        vertical-align: top;\n",
              "    }\n",
              "\n",
              "    .dataframe thead th {\n",
              "        text-align: right;\n",
              "    }\n",
              "</style>\n",
              "<table border=\"1\" class=\"dataframe\">\n",
              "  <thead>\n",
              "    <tr style=\"text-align: right;\">\n",
              "      <th></th>\n",
              "      <th>loan_amnt</th>\n",
              "      <th>term</th>\n",
              "      <th>int_rate</th>\n",
              "      <th>installment</th>\n",
              "      <th>grade</th>\n",
              "      <th>sub_grade</th>\n",
              "      <th>emp_title</th>\n",
              "      <th>emp_length</th>\n",
              "      <th>home_ownership</th>\n",
              "      <th>annual_inc</th>\n",
              "      <th>verification_status</th>\n",
              "      <th>issue_d</th>\n",
              "      <th>loan_status</th>\n",
              "      <th>purpose</th>\n",
              "      <th>title</th>\n",
              "      <th>dti</th>\n",
              "      <th>earliest_cr_line</th>\n",
              "      <th>open_acc</th>\n",
              "      <th>pub_rec</th>\n",
              "      <th>revol_bal</th>\n",
              "      <th>revol_util</th>\n",
              "      <th>total_acc</th>\n",
              "      <th>initial_list_status</th>\n",
              "      <th>application_type</th>\n",
              "      <th>mort_acc</th>\n",
              "      <th>pub_rec_bankruptcies</th>\n",
              "      <th>address</th>\n",
              "    </tr>\n",
              "  </thead>\n",
              "  <tbody>\n",
              "    <tr>\n",
              "      <th>0</th>\n",
              "      <td>10000.0</td>\n",
              "      <td>36 months</td>\n",
              "      <td>11.44</td>\n",
              "      <td>329.48</td>\n",
              "      <td>B</td>\n",
              "      <td>B4</td>\n",
              "      <td>Marketing</td>\n",
              "      <td>10+ years</td>\n",
              "      <td>RENT</td>\n",
              "      <td>117000.0</td>\n",
              "      <td>Not Verified</td>\n",
              "      <td>Jan-2015</td>\n",
              "      <td>Fully Paid</td>\n",
              "      <td>vacation</td>\n",
              "      <td>Vacation</td>\n",
              "      <td>26.24</td>\n",
              "      <td>Jun-1990</td>\n",
              "      <td>16.0</td>\n",
              "      <td>0.0</td>\n",
              "      <td>36369.0</td>\n",
              "      <td>41.8</td>\n",
              "      <td>25.0</td>\n",
              "      <td>w</td>\n",
              "      <td>INDIVIDUAL</td>\n",
              "      <td>0.0</td>\n",
              "      <td>0.0</td>\n",
              "      <td>0174 Michelle Gateway\\nMendozaberg, OK 22690</td>\n",
              "    </tr>\n",
              "    <tr>\n",
              "      <th>1</th>\n",
              "      <td>8000.0</td>\n",
              "      <td>36 months</td>\n",
              "      <td>11.99</td>\n",
              "      <td>265.68</td>\n",
              "      <td>B</td>\n",
              "      <td>B5</td>\n",
              "      <td>Credit analyst</td>\n",
              "      <td>4 years</td>\n",
              "      <td>MORTGAGE</td>\n",
              "      <td>65000.0</td>\n",
              "      <td>Not Verified</td>\n",
              "      <td>Jan-2015</td>\n",
              "      <td>Fully Paid</td>\n",
              "      <td>debt_consolidation</td>\n",
              "      <td>Debt consolidation</td>\n",
              "      <td>22.05</td>\n",
              "      <td>Jul-2004</td>\n",
              "      <td>17.0</td>\n",
              "      <td>0.0</td>\n",
              "      <td>20131.0</td>\n",
              "      <td>53.3</td>\n",
              "      <td>27.0</td>\n",
              "      <td>f</td>\n",
              "      <td>INDIVIDUAL</td>\n",
              "      <td>3.0</td>\n",
              "      <td>0.0</td>\n",
              "      <td>1076 Carney Fort Apt. 347\\nLoganmouth, SD 05113</td>\n",
              "    </tr>\n",
              "    <tr>\n",
              "      <th>2</th>\n",
              "      <td>15600.0</td>\n",
              "      <td>36 months</td>\n",
              "      <td>10.49</td>\n",
              "      <td>506.97</td>\n",
              "      <td>B</td>\n",
              "      <td>B3</td>\n",
              "      <td>Statistician</td>\n",
              "      <td>&lt; 1 year</td>\n",
              "      <td>RENT</td>\n",
              "      <td>43057.0</td>\n",
              "      <td>Source Verified</td>\n",
              "      <td>Jan-2015</td>\n",
              "      <td>Fully Paid</td>\n",
              "      <td>credit_card</td>\n",
              "      <td>Credit card refinancing</td>\n",
              "      <td>12.79</td>\n",
              "      <td>Aug-2007</td>\n",
              "      <td>13.0</td>\n",
              "      <td>0.0</td>\n",
              "      <td>11987.0</td>\n",
              "      <td>92.2</td>\n",
              "      <td>26.0</td>\n",
              "      <td>f</td>\n",
              "      <td>INDIVIDUAL</td>\n",
              "      <td>0.0</td>\n",
              "      <td>0.0</td>\n",
              "      <td>87025 Mark Dale Apt. 269\\nNew Sabrina, WV 05113</td>\n",
              "    </tr>\n",
              "    <tr>\n",
              "      <th>3</th>\n",
              "      <td>7200.0</td>\n",
              "      <td>36 months</td>\n",
              "      <td>6.49</td>\n",
              "      <td>220.65</td>\n",
              "      <td>A</td>\n",
              "      <td>A2</td>\n",
              "      <td>Client Advocate</td>\n",
              "      <td>6 years</td>\n",
              "      <td>RENT</td>\n",
              "      <td>54000.0</td>\n",
              "      <td>Not Verified</td>\n",
              "      <td>Nov-2014</td>\n",
              "      <td>Fully Paid</td>\n",
              "      <td>credit_card</td>\n",
              "      <td>Credit card refinancing</td>\n",
              "      <td>2.60</td>\n",
              "      <td>Sep-2006</td>\n",
              "      <td>6.0</td>\n",
              "      <td>0.0</td>\n",
              "      <td>5472.0</td>\n",
              "      <td>21.5</td>\n",
              "      <td>13.0</td>\n",
              "      <td>f</td>\n",
              "      <td>INDIVIDUAL</td>\n",
              "      <td>0.0</td>\n",
              "      <td>0.0</td>\n",
              "      <td>823 Reid Ford\\nDelacruzside, MA 00813</td>\n",
              "    </tr>\n",
              "    <tr>\n",
              "      <th>4</th>\n",
              "      <td>24375.0</td>\n",
              "      <td>60 months</td>\n",
              "      <td>17.27</td>\n",
              "      <td>609.33</td>\n",
              "      <td>C</td>\n",
              "      <td>C5</td>\n",
              "      <td>Destiny Management Inc.</td>\n",
              "      <td>9 years</td>\n",
              "      <td>MORTGAGE</td>\n",
              "      <td>55000.0</td>\n",
              "      <td>Verified</td>\n",
              "      <td>Apr-2013</td>\n",
              "      <td>Charged Off</td>\n",
              "      <td>credit_card</td>\n",
              "      <td>Credit Card Refinance</td>\n",
              "      <td>33.95</td>\n",
              "      <td>Mar-1999</td>\n",
              "      <td>13.0</td>\n",
              "      <td>0.0</td>\n",
              "      <td>24584.0</td>\n",
              "      <td>69.8</td>\n",
              "      <td>43.0</td>\n",
              "      <td>f</td>\n",
              "      <td>INDIVIDUAL</td>\n",
              "      <td>1.0</td>\n",
              "      <td>0.0</td>\n",
              "      <td>679 Luna Roads\\nGreggshire, VA 11650</td>\n",
              "    </tr>\n",
              "  </tbody>\n",
              "</table>\n",
              "</div>"
            ],
            "text/plain": [
              "   loan_amnt  ...                                          address\n",
              "0    10000.0  ...     0174 Michelle Gateway\\nMendozaberg, OK 22690\n",
              "1     8000.0  ...  1076 Carney Fort Apt. 347\\nLoganmouth, SD 05113\n",
              "2    15600.0  ...  87025 Mark Dale Apt. 269\\nNew Sabrina, WV 05113\n",
              "3     7200.0  ...            823 Reid Ford\\nDelacruzside, MA 00813\n",
              "4    24375.0  ...             679 Luna Roads\\nGreggshire, VA 11650\n",
              "\n",
              "[5 rows x 27 columns]"
            ]
          },
          "metadata": {
            "tags": []
          },
          "execution_count": 177
        }
      ]
    },
    {
      "cell_type": "code",
      "metadata": {
        "colab": {
          "base_uri": "https://localhost:8080/"
        },
        "id": "VdtcS01OEb3s",
        "outputId": "205224ca-4482-46dd-e128-58b3840c1b2a"
      },
      "source": [
        "df.info()"
      ],
      "execution_count": 178,
      "outputs": [
        {
          "output_type": "stream",
          "text": [
            "<class 'pandas.core.frame.DataFrame'>\n",
            "RangeIndex: 396030 entries, 0 to 396029\n",
            "Data columns (total 27 columns):\n",
            " #   Column                Non-Null Count   Dtype  \n",
            "---  ------                --------------   -----  \n",
            " 0   loan_amnt             396030 non-null  float64\n",
            " 1   term                  396030 non-null  object \n",
            " 2   int_rate              396030 non-null  float64\n",
            " 3   installment           396030 non-null  float64\n",
            " 4   grade                 396030 non-null  object \n",
            " 5   sub_grade             396030 non-null  object \n",
            " 6   emp_title             373103 non-null  object \n",
            " 7   emp_length            377729 non-null  object \n",
            " 8   home_ownership        396030 non-null  object \n",
            " 9   annual_inc            396030 non-null  float64\n",
            " 10  verification_status   396030 non-null  object \n",
            " 11  issue_d               396030 non-null  object \n",
            " 12  loan_status           396030 non-null  object \n",
            " 13  purpose               396030 non-null  object \n",
            " 14  title                 394275 non-null  object \n",
            " 15  dti                   396030 non-null  float64\n",
            " 16  earliest_cr_line      396030 non-null  object \n",
            " 17  open_acc              396030 non-null  float64\n",
            " 18  pub_rec               396030 non-null  float64\n",
            " 19  revol_bal             396030 non-null  float64\n",
            " 20  revol_util            395754 non-null  float64\n",
            " 21  total_acc             396030 non-null  float64\n",
            " 22  initial_list_status   396030 non-null  object \n",
            " 23  application_type      396030 non-null  object \n",
            " 24  mort_acc              358235 non-null  float64\n",
            " 25  pub_rec_bankruptcies  395495 non-null  float64\n",
            " 26  address               396030 non-null  object \n",
            "dtypes: float64(12), object(15)\n",
            "memory usage: 81.6+ MB\n"
          ],
          "name": "stdout"
        }
      ]
    },
    {
      "cell_type": "markdown",
      "metadata": {
        "id": "a4MEFwwaFAgB"
      },
      "source": [
        "Exploratory Data Analysis"
      ]
    },
    {
      "cell_type": "code",
      "metadata": {
        "colab": {
          "base_uri": "https://localhost:8080/",
          "height": 297
        },
        "id": "GO5_h1gCEu0K",
        "outputId": "e0fef7e6-7865-40d7-a519-43184533a503"
      },
      "source": [
        "sns.countplot(x='loan_status',data=df)"
      ],
      "execution_count": 179,
      "outputs": [
        {
          "output_type": "execute_result",
          "data": {
            "text/plain": [
              "<matplotlib.axes._subplots.AxesSubplot at 0x7f2a02f424a8>"
            ]
          },
          "metadata": {
            "tags": []
          },
          "execution_count": 179
        },
        {
          "output_type": "display_data",
          "data": {
            "image/png": "[encoded data removed]",
            "text/plain": [
              "<Figure size 432x288 with 1 Axes>"
            ]
          },
          "metadata": {
            "tags": [],
            "needs_background": "light"
          }
        }
      ]
    },
    {
      "cell_type": "markdown",
      "metadata": {
        "id": "mH6FEkVwFUix"
      },
      "source": [
        "Most loans are fully paid"
      ]
    },
    {
      "cell_type": "code",
      "metadata": {
        "colab": {
          "base_uri": "https://localhost:8080/",
          "height": 349
        },
        "id": "HmCZXqwxFNa2",
        "outputId": "fb5d5f16-9940-4030-ad6d-ef1a06710a4e"
      },
      "source": [
        "plt.hist(df['loan_amnt'])"
      ],
      "execution_count": 180,
      "outputs": [
        {
          "output_type": "execute_result",
          "data": {
            "text/plain": [
              "(array([33472., 80698., 91702., 60923., 49239., 27241., 22725., 12392.,\n",
              "        17427.,   211.]),\n",
              " array([  500.,  4450.,  8400., 12350., 16300., 20250., 24200., 28150.,\n",
              "        32100., 36050., 40000.]),\n",
              " <a list of 10 Patch objects>)"
            ]
          },
          "metadata": {
            "tags": []
          },
          "execution_count": 180
        },
        {
          "output_type": "display_data",
          "data": {
            "image/png": "[encoded data removed]",
            "text/plain": [
              "<Figure size 432x288 with 1 Axes>"
            ]
          },
          "metadata": {
            "tags": [],
            "needs_background": "light"
          }
        }
      ]
    },
    {
      "cell_type": "markdown",
      "metadata": {
        "id": "FZASZ-wbFqSK"
      },
      "source": [
        "Loan amount lies largely uptil 35000 $"
      ]
    },
    {
      "cell_type": "code",
      "metadata": {
        "colab": {
          "base_uri": "https://localhost:8080/",
          "height": 422
        },
        "id": "cSdRJjLBFiYq",
        "outputId": "4f401f2e-2f70-4622-9e38-f115e88ec49b"
      },
      "source": [
        "df.corr()"
      ],
      "execution_count": 181,
      "outputs": [
        {
          "output_type": "execute_result",
          "data": {
            "text/html": [
              "<div>\n",
              "<style scoped>\n",
              "    .dataframe tbody tr th:only-of-type {\n",
              "        vertical-align: middle;\n",
              "    }\n",
              "\n",
              "    .dataframe tbody tr th {\n",
              "        vertical-align: top;\n",
              "    }\n",
              "\n",
              "    .dataframe thead th {\n",
              "        text-align: right;\n",
              "    }\n",
              "</style>\n",
              "<table border=\"1\" class=\"dataframe\">\n",
              "  <thead>\n",
              "    <tr style=\"text-align: right;\">\n",
              "      <th></th>\n",
              "      <th>loan_amnt</th>\n",
              "      <th>int_rate</th>\n",
              "      <th>installment</th>\n",
              "      <th>annual_inc</th>\n",
              "      <th>dti</th>\n",
              "      <th>open_acc</th>\n",
              "      <th>pub_rec</th>\n",
              "      <th>revol_bal</th>\n",
              "      <th>revol_util</th>\n",
              "      <th>total_acc</th>\n",
              "      <th>mort_acc</th>\n",
              "      <th>pub_rec_bankruptcies</th>\n",
              "    </tr>\n",
              "  </thead>\n",
              "  <tbody>\n",
              "    <tr>\n",
              "      <th>loan_amnt</th>\n",
              "      <td>1.000000</td>\n",
              "      <td>0.168921</td>\n",
              "      <td>0.953929</td>\n",
              "      <td>0.336887</td>\n",
              "      <td>0.016636</td>\n",
              "      <td>0.198556</td>\n",
              "      <td>-0.077779</td>\n",
              "      <td>0.328320</td>\n",
              "      <td>0.099911</td>\n",
              "      <td>0.223886</td>\n",
              "      <td>0.222315</td>\n",
              "      <td>-0.106539</td>\n",
              "    </tr>\n",
              "    <tr>\n",
              "      <th>int_rate</th>\n",
              "      <td>0.168921</td>\n",
              "      <td>1.000000</td>\n",
              "      <td>0.162758</td>\n",
              "      <td>-0.056771</td>\n",
              "      <td>0.079038</td>\n",
              "      <td>0.011649</td>\n",
              "      <td>0.060986</td>\n",
              "      <td>-0.011280</td>\n",
              "      <td>0.293659</td>\n",
              "      <td>-0.036404</td>\n",
              "      <td>-0.082583</td>\n",
              "      <td>0.057450</td>\n",
              "    </tr>\n",
              "    <tr>\n",
              "      <th>installment</th>\n",
              "      <td>0.953929</td>\n",
              "      <td>0.162758</td>\n",
              "      <td>1.000000</td>\n",
              "      <td>0.330381</td>\n",
              "      <td>0.015786</td>\n",
              "      <td>0.188973</td>\n",
              "      <td>-0.067892</td>\n",
              "      <td>0.316455</td>\n",
              "      <td>0.123915</td>\n",
              "      <td>0.202430</td>\n",
              "      <td>0.193694</td>\n",
              "      <td>-0.098628</td>\n",
              "    </tr>\n",
              "    <tr>\n",
              "      <th>annual_inc</th>\n",
              "      <td>0.336887</td>\n",
              "      <td>-0.056771</td>\n",
              "      <td>0.330381</td>\n",
              "      <td>1.000000</td>\n",
              "      <td>-0.081685</td>\n",
              "      <td>0.136150</td>\n",
              "      <td>-0.013720</td>\n",
              "      <td>0.299773</td>\n",
              "      <td>0.027871</td>\n",
              "      <td>0.193023</td>\n",
              "      <td>0.236320</td>\n",
              "      <td>-0.050162</td>\n",
              "    </tr>\n",
              "    <tr>\n",
              "      <th>dti</th>\n",
              "      <td>0.016636</td>\n",
              "      <td>0.079038</td>\n",
              "      <td>0.015786</td>\n",
              "      <td>-0.081685</td>\n",
              "      <td>1.000000</td>\n",
              "      <td>0.136181</td>\n",
              "      <td>-0.017639</td>\n",
              "      <td>0.063571</td>\n",
              "      <td>0.088375</td>\n",
              "      <td>0.102128</td>\n",
              "      <td>-0.025439</td>\n",
              "      <td>-0.014558</td>\n",
              "    </tr>\n",
              "    <tr>\n",
              "      <th>open_acc</th>\n",
              "      <td>0.198556</td>\n",
              "      <td>0.011649</td>\n",
              "      <td>0.188973</td>\n",
              "      <td>0.136150</td>\n",
              "      <td>0.136181</td>\n",
              "      <td>1.000000</td>\n",
              "      <td>-0.018392</td>\n",
              "      <td>0.221192</td>\n",
              "      <td>-0.131420</td>\n",
              "      <td>0.680728</td>\n",
              "      <td>0.109205</td>\n",
              "      <td>-0.027732</td>\n",
              "    </tr>\n",
              "    <tr>\n",
              "      <th>pub_rec</th>\n",
              "      <td>-0.077779</td>\n",
              "      <td>0.060986</td>\n",
              "      <td>-0.067892</td>\n",
              "      <td>-0.013720</td>\n",
              "      <td>-0.017639</td>\n",
              "      <td>-0.018392</td>\n",
              "      <td>1.000000</td>\n",
              "      <td>-0.101664</td>\n",
              "      <td>-0.075910</td>\n",
              "      <td>0.019723</td>\n",
              "      <td>0.011552</td>\n",
              "      <td>0.699408</td>\n",
              "    </tr>\n",
              "    <tr>\n",
              "      <th>revol_bal</th>\n",
              "      <td>0.328320</td>\n",
              "      <td>-0.011280</td>\n",
              "      <td>0.316455</td>\n",
              "      <td>0.299773</td>\n",
              "      <td>0.063571</td>\n",
              "      <td>0.221192</td>\n",
              "      <td>-0.101664</td>\n",
              "      <td>1.000000</td>\n",
              "      <td>0.226346</td>\n",
              "      <td>0.191616</td>\n",
              "      <td>0.194925</td>\n",
              "      <td>-0.124532</td>\n",
              "    </tr>\n",
              "    <tr>\n",
              "      <th>revol_util</th>\n",
              "      <td>0.099911</td>\n",
              "      <td>0.293659</td>\n",
              "      <td>0.123915</td>\n",
              "      <td>0.027871</td>\n",
              "      <td>0.088375</td>\n",
              "      <td>-0.131420</td>\n",
              "      <td>-0.075910</td>\n",
              "      <td>0.226346</td>\n",
              "      <td>1.000000</td>\n",
              "      <td>-0.104273</td>\n",
              "      <td>0.007514</td>\n",
              "      <td>-0.086751</td>\n",
              "    </tr>\n",
              "    <tr>\n",
              "      <th>total_acc</th>\n",
              "      <td>0.223886</td>\n",
              "      <td>-0.036404</td>\n",
              "      <td>0.202430</td>\n",
              "      <td>0.193023</td>\n",
              "      <td>0.102128</td>\n",
              "      <td>0.680728</td>\n",
              "      <td>0.019723</td>\n",
              "      <td>0.191616</td>\n",
              "      <td>-0.104273</td>\n",
              "      <td>1.000000</td>\n",
              "      <td>0.381072</td>\n",
              "      <td>0.042035</td>\n",
              "    </tr>\n",
              "    <tr>\n",
              "      <th>mort_acc</th>\n",
              "      <td>0.222315</td>\n",
              "      <td>-0.082583</td>\n",
              "      <td>0.193694</td>\n",
              "      <td>0.236320</td>\n",
              "      <td>-0.025439</td>\n",
              "      <td>0.109205</td>\n",
              "      <td>0.011552</td>\n",
              "      <td>0.194925</td>\n",
              "      <td>0.007514</td>\n",
              "      <td>0.381072</td>\n",
              "      <td>1.000000</td>\n",
              "      <td>0.027239</td>\n",
              "    </tr>\n",
              "    <tr>\n",
              "      <th>pub_rec_bankruptcies</th>\n",
              "      <td>-0.106539</td>\n",
              "      <td>0.057450</td>\n",
              "      <td>-0.098628</td>\n",
              "      <td>-0.050162</td>\n",
              "      <td>-0.014558</td>\n",
              "      <td>-0.027732</td>\n",
              "      <td>0.699408</td>\n",
              "      <td>-0.124532</td>\n",
              "      <td>-0.086751</td>\n",
              "      <td>0.042035</td>\n",
              "      <td>0.027239</td>\n",
              "      <td>1.000000</td>\n",
              "    </tr>\n",
              "  </tbody>\n",
              "</table>\n",
              "</div>"
            ],
            "text/plain": [
              "                      loan_amnt  int_rate  ...  mort_acc  pub_rec_bankruptcies\n",
              "loan_amnt              1.000000  0.168921  ...  0.222315             -0.106539\n",
              "int_rate               0.168921  1.000000  ... -0.082583              0.057450\n",
              "installment            0.953929  0.162758  ...  0.193694             -0.098628\n",
              "annual_inc             0.336887 -0.056771  ...  0.236320             -0.050162\n",
              "dti                    0.016636  0.079038  ... -0.025439             -0.014558\n",
              "open_acc               0.198556  0.011649  ...  0.109205             -0.027732\n",
              "pub_rec               -0.077779  0.060986  ...  0.011552              0.699408\n",
              "revol_bal              0.328320 -0.011280  ...  0.194925             -0.124532\n",
              "revol_util             0.099911  0.293659  ...  0.007514             -0.086751\n",
              "total_acc              0.223886 -0.036404  ...  0.381072              0.042035\n",
              "mort_acc               0.222315 -0.082583  ...  1.000000              0.027239\n",
              "pub_rec_bankruptcies  -0.106539  0.057450  ...  0.027239              1.000000\n",
              "\n",
              "[12 rows x 12 columns]"
            ]
          },
          "metadata": {
            "tags": []
          },
          "execution_count": 181
        }
      ]
    },
    {
      "cell_type": "code",
      "metadata": {
        "colab": {
          "base_uri": "https://localhost:8080/",
          "height": 618
        },
        "id": "LEsct1OdGaCQ",
        "outputId": "e1a0b07f-eb3d-49ed-e195-0fcf01f5c4d1"
      },
      "source": [
        "plt.figure(figsize=(12,10))\n",
        "sns.heatmap(df.corr(),annot=True)"
      ],
      "execution_count": 182,
      "outputs": [
        {
          "output_type": "execute_result",
          "data": {
            "text/plain": [
              "<matplotlib.axes._subplots.AxesSubplot at 0x7f2a09f1b6a0>"
            ]
          },
          "metadata": {
            "tags": []
          },
          "execution_count": 182
        },
        {
          "output_type": "display_data",
          "data": {
            "image/png": "[encoded data removed]",
            "text/plain": [
              "<Figure size 864x720 with 2 Axes>"
            ]
          },
          "metadata": {
            "tags": [],
            "needs_background": "light"
          }
        }
      ]
    },
    {
      "cell_type": "markdown",
      "metadata": {
        "id": "vYp7qQWvKtws"
      },
      "source": [
        "Almost perfect correlation of installment with loan_amnt"
      ]
    },
    {
      "cell_type": "code",
      "metadata": {
        "colab": {
          "base_uri": "https://localhost:8080/"
        },
        "id": "wQd7VXqbHBK7",
        "outputId": "5856fff9-0526-4ab5-f87d-4ba29cbebc0c"
      },
      "source": [
        "df['installment']"
      ],
      "execution_count": 183,
      "outputs": [
        {
          "output_type": "execute_result",
          "data": {
            "text/plain": [
              "0         329.48\n",
              "1         265.68\n",
              "2         506.97\n",
              "3         220.65\n",
              "4         609.33\n",
              "           ...  \n",
              "396025    217.38\n",
              "396026    700.42\n",
              "396027    161.32\n",
              "396028    503.02\n",
              "396029     67.98\n",
              "Name: installment, Length: 396030, dtype: float64"
            ]
          },
          "metadata": {
            "tags": []
          },
          "execution_count": 183
        }
      ]
    },
    {
      "cell_type": "code",
      "metadata": {
        "colab": {
          "base_uri": "https://localhost:8080/",
          "height": 383
        },
        "id": "4ISZPGv_INc6",
        "outputId": "4abb4209-84ab-4bcb-d2ab-4cb61e458f82"
      },
      "source": [
        "df.head()"
      ],
      "execution_count": 184,
      "outputs": [
        {
          "output_type": "execute_result",
          "data": {
            "text/html": [
              "<div>\n",
              "<style scoped>\n",
              "    .dataframe tbody tr th:only-of-type {\n",
              "        vertical-align: middle;\n",
              "    }\n",
              "\n",
              "    .dataframe tbody tr th {\n",
              "        vertical-align: top;\n",
              "    }\n",
              "\n",
              "    .dataframe thead th {\n",
              "        text-align: right;\n",
              "    }\n",
              "</style>\n",
              "<table border=\"1\" class=\"dataframe\">\n",
              "  <thead>\n",
              "    <tr style=\"text-align: right;\">\n",
              "      <th></th>\n",
              "      <th>loan_amnt</th>\n",
              "      <th>term</th>\n",
              "      <th>int_rate</th>\n",
              "      <th>installment</th>\n",
              "      <th>grade</th>\n",
              "      <th>sub_grade</th>\n",
              "      <th>emp_title</th>\n",
              "      <th>emp_length</th>\n",
              "      <th>home_ownership</th>\n",
              "      <th>annual_inc</th>\n",
              "      <th>verification_status</th>\n",
              "      <th>issue_d</th>\n",
              "      <th>loan_status</th>\n",
              "      <th>purpose</th>\n",
              "      <th>title</th>\n",
              "      <th>dti</th>\n",
              "      <th>earliest_cr_line</th>\n",
              "      <th>open_acc</th>\n",
              "      <th>pub_rec</th>\n",
              "      <th>revol_bal</th>\n",
              "      <th>revol_util</th>\n",
              "      <th>total_acc</th>\n",
              "      <th>initial_list_status</th>\n",
              "      <th>application_type</th>\n",
              "      <th>mort_acc</th>\n",
              "      <th>pub_rec_bankruptcies</th>\n",
              "      <th>address</th>\n",
              "    </tr>\n",
              "  </thead>\n",
              "  <tbody>\n",
              "    <tr>\n",
              "      <th>0</th>\n",
              "      <td>10000.0</td>\n",
              "      <td>36 months</td>\n",
              "      <td>11.44</td>\n",
              "      <td>329.48</td>\n",
              "      <td>B</td>\n",
              "      <td>B4</td>\n",
              "      <td>Marketing</td>\n",
              "      <td>10+ years</td>\n",
              "      <td>RENT</td>\n",
              "      <td>117000.0</td>\n",
              "      <td>Not Verified</td>\n",
              "      <td>Jan-2015</td>\n",
              "      <td>Fully Paid</td>\n",
              "      <td>vacation</td>\n",
              "      <td>Vacation</td>\n",
              "      <td>26.24</td>\n",
              "      <td>Jun-1990</td>\n",
              "      <td>16.0</td>\n",
              "      <td>0.0</td>\n",
              "      <td>36369.0</td>\n",
              "      <td>41.8</td>\n",
              "      <td>25.0</td>\n",
              "      <td>w</td>\n",
              "      <td>INDIVIDUAL</td>\n",
              "      <td>0.0</td>\n",
              "      <td>0.0</td>\n",
              "      <td>0174 Michelle Gateway\\nMendozaberg, OK 22690</td>\n",
              "    </tr>\n",
              "    <tr>\n",
              "      <th>1</th>\n",
              "      <td>8000.0</td>\n",
              "      <td>36 months</td>\n",
              "      <td>11.99</td>\n",
              "      <td>265.68</td>\n",
              "      <td>B</td>\n",
              "      <td>B5</td>\n",
              "      <td>Credit analyst</td>\n",
              "      <td>4 years</td>\n",
              "      <td>MORTGAGE</td>\n",
              "      <td>65000.0</td>\n",
              "      <td>Not Verified</td>\n",
              "      <td>Jan-2015</td>\n",
              "      <td>Fully Paid</td>\n",
              "      <td>debt_consolidation</td>\n",
              "      <td>Debt consolidation</td>\n",
              "      <td>22.05</td>\n",
              "      <td>Jul-2004</td>\n",
              "      <td>17.0</td>\n",
              "      <td>0.0</td>\n",
              "      <td>20131.0</td>\n",
              "      <td>53.3</td>\n",
              "      <td>27.0</td>\n",
              "      <td>f</td>\n",
              "      <td>INDIVIDUAL</td>\n",
              "      <td>3.0</td>\n",
              "      <td>0.0</td>\n",
              "      <td>1076 Carney Fort Apt. 347\\nLoganmouth, SD 05113</td>\n",
              "    </tr>\n",
              "    <tr>\n",
              "      <th>2</th>\n",
              "      <td>15600.0</td>\n",
              "      <td>36 months</td>\n",
              "      <td>10.49</td>\n",
              "      <td>506.97</td>\n",
              "      <td>B</td>\n",
              "      <td>B3</td>\n",
              "      <td>Statistician</td>\n",
              "      <td>&lt; 1 year</td>\n",
              "      <td>RENT</td>\n",
              "      <td>43057.0</td>\n",
              "      <td>Source Verified</td>\n",
              "      <td>Jan-2015</td>\n",
              "      <td>Fully Paid</td>\n",
              "      <td>credit_card</td>\n",
              "      <td>Credit card refinancing</td>\n",
              "      <td>12.79</td>\n",
              "      <td>Aug-2007</td>\n",
              "      <td>13.0</td>\n",
              "      <td>0.0</td>\n",
              "      <td>11987.0</td>\n",
              "      <td>92.2</td>\n",
              "      <td>26.0</td>\n",
              "      <td>f</td>\n",
              "      <td>INDIVIDUAL</td>\n",
              "      <td>0.0</td>\n",
              "      <td>0.0</td>\n",
              "      <td>87025 Mark Dale Apt. 269\\nNew Sabrina, WV 05113</td>\n",
              "    </tr>\n",
              "    <tr>\n",
              "      <th>3</th>\n",
              "      <td>7200.0</td>\n",
              "      <td>36 months</td>\n",
              "      <td>6.49</td>\n",
              "      <td>220.65</td>\n",
              "      <td>A</td>\n",
              "      <td>A2</td>\n",
              "      <td>Client Advocate</td>\n",
              "      <td>6 years</td>\n",
              "      <td>RENT</td>\n",
              "      <td>54000.0</td>\n",
              "      <td>Not Verified</td>\n",
              "      <td>Nov-2014</td>\n",
              "      <td>Fully Paid</td>\n",
              "      <td>credit_card</td>\n",
              "      <td>Credit card refinancing</td>\n",
              "      <td>2.60</td>\n",
              "      <td>Sep-2006</td>\n",
              "      <td>6.0</td>\n",
              "      <td>0.0</td>\n",
              "      <td>5472.0</td>\n",
              "      <td>21.5</td>\n",
              "      <td>13.0</td>\n",
              "      <td>f</td>\n",
              "      <td>INDIVIDUAL</td>\n",
              "      <td>0.0</td>\n",
              "      <td>0.0</td>\n",
              "      <td>823 Reid Ford\\nDelacruzside, MA 00813</td>\n",
              "    </tr>\n",
              "    <tr>\n",
              "      <th>4</th>\n",
              "      <td>24375.0</td>\n",
              "      <td>60 months</td>\n",
              "      <td>17.27</td>\n",
              "      <td>609.33</td>\n",
              "      <td>C</td>\n",
              "      <td>C5</td>\n",
              "      <td>Destiny Management Inc.</td>\n",
              "      <td>9 years</td>\n",
              "      <td>MORTGAGE</td>\n",
              "      <td>55000.0</td>\n",
              "      <td>Verified</td>\n",
              "      <td>Apr-2013</td>\n",
              "      <td>Charged Off</td>\n",
              "      <td>credit_card</td>\n",
              "      <td>Credit Card Refinance</td>\n",
              "      <td>33.95</td>\n",
              "      <td>Mar-1999</td>\n",
              "      <td>13.0</td>\n",
              "      <td>0.0</td>\n",
              "      <td>24584.0</td>\n",
              "      <td>69.8</td>\n",
              "      <td>43.0</td>\n",
              "      <td>f</td>\n",
              "      <td>INDIVIDUAL</td>\n",
              "      <td>1.0</td>\n",
              "      <td>0.0</td>\n",
              "      <td>679 Luna Roads\\nGreggshire, VA 11650</td>\n",
              "    </tr>\n",
              "  </tbody>\n",
              "</table>\n",
              "</div>"
            ],
            "text/plain": [
              "   loan_amnt  ...                                          address\n",
              "0    10000.0  ...     0174 Michelle Gateway\\nMendozaberg, OK 22690\n",
              "1     8000.0  ...  1076 Carney Fort Apt. 347\\nLoganmouth, SD 05113\n",
              "2    15600.0  ...  87025 Mark Dale Apt. 269\\nNew Sabrina, WV 05113\n",
              "3     7200.0  ...            823 Reid Ford\\nDelacruzside, MA 00813\n",
              "4    24375.0  ...             679 Luna Roads\\nGreggshire, VA 11650\n",
              "\n",
              "[5 rows x 27 columns]"
            ]
          },
          "metadata": {
            "tags": []
          },
          "execution_count": 184
        }
      ]
    },
    {
      "cell_type": "code",
      "metadata": {
        "colab": {
          "base_uri": "https://localhost:8080/",
          "height": 225
        },
        "id": "LmGtpE1gImNI",
        "outputId": "c84f93d2-4ab1-489c-905f-c5ea5275ea69"
      },
      "source": [
        "data_info.head()"
      ],
      "execution_count": 185,
      "outputs": [
        {
          "output_type": "execute_result",
          "data": {
            "text/html": [
              "<div>\n",
              "<style scoped>\n",
              "    .dataframe tbody tr th:only-of-type {\n",
              "        vertical-align: middle;\n",
              "    }\n",
              "\n",
              "    .dataframe tbody tr th {\n",
              "        vertical-align: top;\n",
              "    }\n",
              "\n",
              "    .dataframe thead th {\n",
              "        text-align: right;\n",
              "    }\n",
              "</style>\n",
              "<table border=\"1\" class=\"dataframe\">\n",
              "  <thead>\n",
              "    <tr style=\"text-align: right;\">\n",
              "      <th></th>\n",
              "      <th>Description</th>\n",
              "    </tr>\n",
              "    <tr>\n",
              "      <th>LoanStatNew</th>\n",
              "      <th></th>\n",
              "    </tr>\n",
              "  </thead>\n",
              "  <tbody>\n",
              "    <tr>\n",
              "      <th>loan_amnt</th>\n",
              "      <td>The listed amount of the loan applied for by t...</td>\n",
              "    </tr>\n",
              "    <tr>\n",
              "      <th>term</th>\n",
              "      <td>The number of payments on the loan. Values are...</td>\n",
              "    </tr>\n",
              "    <tr>\n",
              "      <th>int_rate</th>\n",
              "      <td>Interest Rate on the loan</td>\n",
              "    </tr>\n",
              "    <tr>\n",
              "      <th>installment</th>\n",
              "      <td>The monthly payment owed by the borrower if th...</td>\n",
              "    </tr>\n",
              "    <tr>\n",
              "      <th>grade</th>\n",
              "      <td>LC assigned loan grade</td>\n",
              "    </tr>\n",
              "  </tbody>\n",
              "</table>\n",
              "</div>"
            ],
            "text/plain": [
              "                                                   Description\n",
              "LoanStatNew                                                   \n",
              "loan_amnt    The listed amount of the loan applied for by t...\n",
              "term         The number of payments on the loan. Values are...\n",
              "int_rate                             Interest Rate on the loan\n",
              "installment  The monthly payment owed by the borrower if th...\n",
              "grade                                   LC assigned loan grade"
            ]
          },
          "metadata": {
            "tags": []
          },
          "execution_count": 185
        }
      ]
    },
    {
      "cell_type": "code",
      "metadata": {
        "colab": {
          "base_uri": "https://localhost:8080/"
        },
        "id": "zmcNqf6IKneu",
        "outputId": "f688ca14-f731-4b54-9ac2-a4521838d2eb"
      },
      "source": [
        "feat_info('installment')\n",
        "feat_info('loan_amnt')\n"
      ],
      "execution_count": 186,
      "outputs": [
        {
          "output_type": "stream",
          "text": [
            "The monthly payment owed by the borrower if the loan originates.\n",
            "The listed amount of the loan applied for by the borrower. If at some point in time, the credit department reduces the loan amount, then it will be reflected in this value.\n"
          ],
          "name": "stdout"
        }
      ]
    },
    {
      "cell_type": "code",
      "metadata": {
        "colab": {
          "base_uri": "https://localhost:8080/",
          "height": 296
        },
        "id": "EqKdaPIeLkVx",
        "outputId": "b7c2d976-e634-414c-c4ac-e68b1f1e8361"
      },
      "source": [
        "sns.scatterplot(x='installment',y='loan_amnt',data=df)"
      ],
      "execution_count": 187,
      "outputs": [
        {
          "output_type": "execute_result",
          "data": {
            "text/plain": [
              "<matplotlib.axes._subplots.AxesSubplot at 0x7f2a02245b38>"
            ]
          },
          "metadata": {
            "tags": []
          },
          "execution_count": 187
        },
        {
          "output_type": "display_data",
          "data": {
            "image/png": "[encoded data removed]",
            "text/plain": [
              "<Figure size 432x288 with 1 Axes>"
            ]
          },
          "metadata": {
            "tags": [],
            "needs_background": "light"
          }
        }
      ]
    },
    {
      "cell_type": "code",
      "metadata": {
        "colab": {
          "base_uri": "https://localhost:8080/",
          "height": 297
        },
        "id": "HEDD0QU-L5Y4",
        "outputId": "1184b056-0db9-4de9-80ba-d65fd80c2329"
      },
      "source": [
        "sns.boxplot(x='loan_status',y='loan_amnt',data=df)"
      ],
      "execution_count": 188,
      "outputs": [
        {
          "output_type": "execute_result",
          "data": {
            "text/plain": [
              "<matplotlib.axes._subplots.AxesSubplot at 0x7f2a02212fd0>"
            ]
          },
          "metadata": {
            "tags": []
          },
          "execution_count": 188
        },
        {
          "output_type": "display_data",
          "data": {
            "image/png": "[encoded data removed]",
            "text/plain": [
              "<Figure size 432x288 with 1 Axes>"
            ]
          },
          "metadata": {
            "tags": [],
            "needs_background": "light"
          }
        }
      ]
    },
    {
      "cell_type": "code",
      "metadata": {
        "colab": {
          "base_uri": "https://localhost:8080/",
          "height": 156
        },
        "id": "z-SR7mcvMGel",
        "outputId": "7fde09c1-3d1e-4660-bdc1-f96aae8d659e"
      },
      "source": [
        "df.groupby('loan_status')['loan_amnt'].describe()"
      ],
      "execution_count": 189,
      "outputs": [
        {
          "output_type": "execute_result",
          "data": {
            "text/html": [
              "<div>\n",
              "<style scoped>\n",
              "    .dataframe tbody tr th:only-of-type {\n",
              "        vertical-align: middle;\n",
              "    }\n",
              "\n",
              "    .dataframe tbody tr th {\n",
              "        vertical-align: top;\n",
              "    }\n",
              "\n",
              "    .dataframe thead th {\n",
              "        text-align: right;\n",
              "    }\n",
              "</style>\n",
              "<table border=\"1\" class=\"dataframe\">\n",
              "  <thead>\n",
              "    <tr style=\"text-align: right;\">\n",
              "      <th></th>\n",
              "      <th>count</th>\n",
              "      <th>mean</th>\n",
              "      <th>std</th>\n",
              "      <th>min</th>\n",
              "      <th>25%</th>\n",
              "      <th>50%</th>\n",
              "      <th>75%</th>\n",
              "      <th>max</th>\n",
              "    </tr>\n",
              "    <tr>\n",
              "      <th>loan_status</th>\n",
              "      <th></th>\n",
              "      <th></th>\n",
              "      <th></th>\n",
              "      <th></th>\n",
              "      <th></th>\n",
              "      <th></th>\n",
              "      <th></th>\n",
              "      <th></th>\n",
              "    </tr>\n",
              "  </thead>\n",
              "  <tbody>\n",
              "    <tr>\n",
              "      <th>Charged Off</th>\n",
              "      <td>77673.0</td>\n",
              "      <td>15126.300967</td>\n",
              "      <td>8505.090557</td>\n",
              "      <td>1000.0</td>\n",
              "      <td>8525.0</td>\n",
              "      <td>14000.0</td>\n",
              "      <td>20000.0</td>\n",
              "      <td>40000.0</td>\n",
              "    </tr>\n",
              "    <tr>\n",
              "      <th>Fully Paid</th>\n",
              "      <td>318357.0</td>\n",
              "      <td>13866.878771</td>\n",
              "      <td>8302.319699</td>\n",
              "      <td>500.0</td>\n",
              "      <td>7500.0</td>\n",
              "      <td>12000.0</td>\n",
              "      <td>19225.0</td>\n",
              "      <td>40000.0</td>\n",
              "    </tr>\n",
              "  </tbody>\n",
              "</table>\n",
              "</div>"
            ],
            "text/plain": [
              "                count          mean          std  ...      50%      75%      max\n",
              "loan_status                                       ...                           \n",
              "Charged Off   77673.0  15126.300967  8505.090557  ...  14000.0  20000.0  40000.0\n",
              "Fully Paid   318357.0  13866.878771  8302.319699  ...  12000.0  19225.0  40000.0\n",
              "\n",
              "[2 rows x 8 columns]"
            ]
          },
          "metadata": {
            "tags": []
          },
          "execution_count": 189
        }
      ]
    },
    {
      "cell_type": "code",
      "metadata": {
        "colab": {
          "base_uri": "https://localhost:8080/"
        },
        "id": "GPmVlIMjMaQZ",
        "outputId": "358545dd-8e0b-4dcc-ec93-0411a0a8f851"
      },
      "source": [
        "df['grade'].unique()"
      ],
      "execution_count": 190,
      "outputs": [
        {
          "output_type": "execute_result",
          "data": {
            "text/plain": [
              "array(['B', 'A', 'C', 'E', 'D', 'F', 'G'], dtype=object)"
            ]
          },
          "metadata": {
            "tags": []
          },
          "execution_count": 190
        }
      ]
    },
    {
      "cell_type": "code",
      "metadata": {
        "colab": {
          "base_uri": "https://localhost:8080/"
        },
        "id": "Ss1ffU2jM_v7",
        "outputId": "c8dfd036-36b7-41c6-a496-ef845c91792a"
      },
      "source": [
        "df['sub_grade'].unique()"
      ],
      "execution_count": 191,
      "outputs": [
        {
          "output_type": "execute_result",
          "data": {
            "text/plain": [
              "array(['B4', 'B5', 'B3', 'A2', 'C5', 'C3', 'A1', 'B2', 'C1', 'A5', 'E4',\n",
              "       'A4', 'A3', 'D1', 'C2', 'B1', 'D3', 'D5', 'D2', 'E1', 'E2', 'E5',\n",
              "       'F4', 'E3', 'D4', 'G1', 'F5', 'G2', 'C4', 'F1', 'F3', 'G5', 'G4',\n",
              "       'F2', 'G3'], dtype=object)"
            ]
          },
          "metadata": {
            "tags": []
          },
          "execution_count": 191
        }
      ]
    },
    {
      "cell_type": "code",
      "metadata": {
        "colab": {
          "base_uri": "https://localhost:8080/",
          "height": 296
        },
        "id": "BcCRktnqNKmG",
        "outputId": "68124c3e-4c21-4e9a-c80b-8bc3d9a6b672"
      },
      "source": [
        "sns.countplot(x='grade',data=df,hue='loan_status')"
      ],
      "execution_count": 192,
      "outputs": [
        {
          "output_type": "execute_result",
          "data": {
            "text/plain": [
              "<matplotlib.axes._subplots.AxesSubplot at 0x7f2a0220a780>"
            ]
          },
          "metadata": {
            "tags": []
          },
          "execution_count": 192
        },
        {
          "output_type": "display_data",
          "data": {
            "image/png": "[encoded data removed]",
            "text/plain": [
              "<Figure size 432x288 with 1 Axes>"
            ]
          },
          "metadata": {
            "tags": [],
            "needs_background": "light"
          }
        }
      ]
    },
    {
      "cell_type": "markdown",
      "metadata": {
        "id": "EnTII4pjNsi1"
      },
      "source": [
        "Most fully paid loans in grade B\n",
        "Most Charged off on grade E\n",
        "Higher tendencies to fully pay grade A, B,C,D"
      ]
    },
    {
      "cell_type": "code",
      "metadata": {
        "colab": {
          "base_uri": "https://localhost:8080/",
          "height": 550
        },
        "id": "syBV45m_NXJg",
        "outputId": "6763aca0-e046-4f0f-dd03-6268fae3a7fc"
      },
      "source": [
        "plt.figure(figsize=(12,10))\n",
        "sns.countplot(x='sub_grade',data=df,hue='loan_status')"
      ],
      "execution_count": 193,
      "outputs": [
        {
          "output_type": "execute_result",
          "data": {
            "text/plain": [
              "<matplotlib.axes._subplots.AxesSubplot at 0x7f2a022154e0>"
            ]
          },
          "metadata": {
            "tags": []
          },
          "execution_count": 193
        },
        {
          "output_type": "display_data",
          "data": {
            "image/png": "[encoded data removed]",
            "text/plain": [
              "<Figure size 864x720 with 1 Axes>"
            ]
          },
          "metadata": {
            "tags": [],
            "needs_background": "light"
          }
        }
      ]
    },
    {
      "cell_type": "markdown",
      "metadata": {
        "id": "5tWb1YSeOyMr"
      },
      "source": [
        "F and G dont get paid back often"
      ]
    },
    {
      "cell_type": "code",
      "metadata": {
        "colab": {
          "base_uri": "https://localhost:8080/",
          "height": 554
        },
        "id": "j-kIM5goONhJ",
        "outputId": "5fdc978a-5802-4d56-c8c1-5054fc9bb7bf"
      },
      "source": [
        "df1 = df[(df['grade'] == 'F') | (df['grade'] == 'G')]\n",
        "plt.figure(figsize=(12,10))\n",
        "sns.countplot(x='sub_grade',data=df1,hue='loan_status')"
      ],
      "execution_count": 194,
      "outputs": [
        {
          "output_type": "execute_result",
          "data": {
            "text/plain": [
              "<matplotlib.axes._subplots.AxesSubplot at 0x7f2a01f980f0>"
            ]
          },
          "metadata": {
            "tags": []
          },
          "execution_count": 194
        },
        {
          "output_type": "display_data",
          "data": {
            "image/png": "[encoded data removed]",
            "text/plain": [
              "<Figure size 864x720 with 1 Axes>"
            ]
          },
          "metadata": {
            "tags": [],
            "needs_background": "light"
          }
        }
      ]
    },
    {
      "cell_type": "code",
      "metadata": {
        "colab": {
          "base_uri": "https://localhost:8080/"
        },
        "id": "KSfupVm-PLJ7",
        "outputId": "0bb75327-f0ac-4dfb-85ce-d21db6ac1b7e"
      },
      "source": [
        "df['loan_status'].unique()\n"
      ],
      "execution_count": 195,
      "outputs": [
        {
          "output_type": "execute_result",
          "data": {
            "text/plain": [
              "array(['Fully Paid', 'Charged Off'], dtype=object)"
            ]
          },
          "metadata": {
            "tags": []
          },
          "execution_count": 195
        }
      ]
    },
    {
      "cell_type": "code",
      "metadata": {
        "id": "Pd3wtCXVRtel"
      },
      "source": [
        "df['loan_repaid'] = df['loan_status'].map({'Fully Paid':1,'Charged Off':0})"
      ],
      "execution_count": 196,
      "outputs": []
    },
    {
      "cell_type": "code",
      "metadata": {
        "colab": {
          "base_uri": "https://localhost:8080/",
          "height": 402
        },
        "id": "Vfwk6pC2Sszj",
        "outputId": "65f6d52d-688a-4448-82e5-f405a204cf67"
      },
      "source": [
        "df[['loan_repaid','loan_status']]"
      ],
      "execution_count": 197,
      "outputs": [
        {
          "output_type": "execute_result",
          "data": {
            "text/html": [
              "<div>\n",
              "<style scoped>\n",
              "    .dataframe tbody tr th:only-of-type {\n",
              "        vertical-align: middle;\n",
              "    }\n",
              "\n",
              "    .dataframe tbody tr th {\n",
              "        vertical-align: top;\n",
              "    }\n",
              "\n",
              "    .dataframe thead th {\n",
              "        text-align: right;\n",
              "    }\n",
              "</style>\n",
              "<table border=\"1\" class=\"dataframe\">\n",
              "  <thead>\n",
              "    <tr style=\"text-align: right;\">\n",
              "      <th></th>\n",
              "      <th>loan_repaid</th>\n",
              "      <th>loan_status</th>\n",
              "    </tr>\n",
              "  </thead>\n",
              "  <tbody>\n",
              "    <tr>\n",
              "      <th>0</th>\n",
              "      <td>1</td>\n",
              "      <td>Fully Paid</td>\n",
              "    </tr>\n",
              "    <tr>\n",
              "      <th>1</th>\n",
              "      <td>1</td>\n",
              "      <td>Fully Paid</td>\n",
              "    </tr>\n",
              "    <tr>\n",
              "      <th>2</th>\n",
              "      <td>1</td>\n",
              "      <td>Fully Paid</td>\n",
              "    </tr>\n",
              "    <tr>\n",
              "      <th>3</th>\n",
              "      <td>1</td>\n",
              "      <td>Fully Paid</td>\n",
              "    </tr>\n",
              "    <tr>\n",
              "      <th>4</th>\n",
              "      <td>0</td>\n",
              "      <td>Charged Off</td>\n",
              "    </tr>\n",
              "    <tr>\n",
              "      <th>...</th>\n",
              "      <td>...</td>\n",
              "      <td>...</td>\n",
              "    </tr>\n",
              "    <tr>\n",
              "      <th>396025</th>\n",
              "      <td>1</td>\n",
              "      <td>Fully Paid</td>\n",
              "    </tr>\n",
              "    <tr>\n",
              "      <th>396026</th>\n",
              "      <td>1</td>\n",
              "      <td>Fully Paid</td>\n",
              "    </tr>\n",
              "    <tr>\n",
              "      <th>396027</th>\n",
              "      <td>1</td>\n",
              "      <td>Fully Paid</td>\n",
              "    </tr>\n",
              "    <tr>\n",
              "      <th>396028</th>\n",
              "      <td>1</td>\n",
              "      <td>Fully Paid</td>\n",
              "    </tr>\n",
              "    <tr>\n",
              "      <th>396029</th>\n",
              "      <td>1</td>\n",
              "      <td>Fully Paid</td>\n",
              "    </tr>\n",
              "  </tbody>\n",
              "</table>\n",
              "<p>396030 rows × 2 columns</p>\n",
              "</div>"
            ],
            "text/plain": [
              "        loan_repaid  loan_status\n",
              "0                 1   Fully Paid\n",
              "1                 1   Fully Paid\n",
              "2                 1   Fully Paid\n",
              "3                 1   Fully Paid\n",
              "4                 0  Charged Off\n",
              "...             ...          ...\n",
              "396025            1   Fully Paid\n",
              "396026            1   Fully Paid\n",
              "396027            1   Fully Paid\n",
              "396028            1   Fully Paid\n",
              "396029            1   Fully Paid\n",
              "\n",
              "[396030 rows x 2 columns]"
            ]
          },
          "metadata": {
            "tags": []
          },
          "execution_count": 197
        }
      ]
    },
    {
      "cell_type": "code",
      "metadata": {
        "colab": {
          "base_uri": "https://localhost:8080/"
        },
        "id": "tSwgWr9CSyMf",
        "outputId": "7c78ee00-d77e-4fd1-b89f-ae11f79fd20a"
      },
      "source": [
        "df.info()"
      ],
      "execution_count": 198,
      "outputs": [
        {
          "output_type": "stream",
          "text": [
            "<class 'pandas.core.frame.DataFrame'>\n",
            "RangeIndex: 396030 entries, 0 to 396029\n",
            "Data columns (total 28 columns):\n",
            " #   Column                Non-Null Count   Dtype  \n",
            "---  ------                --------------   -----  \n",
            " 0   loan_amnt             396030 non-null  float64\n",
            " 1   term                  396030 non-null  object \n",
            " 2   int_rate              396030 non-null  float64\n",
            " 3   installment           396030 non-null  float64\n",
            " 4   grade                 396030 non-null  object \n",
            " 5   sub_grade             396030 non-null  object \n",
            " 6   emp_title             373103 non-null  object \n",
            " 7   emp_length            377729 non-null  object \n",
            " 8   home_ownership        396030 non-null  object \n",
            " 9   annual_inc            396030 non-null  float64\n",
            " 10  verification_status   396030 non-null  object \n",
            " 11  issue_d               396030 non-null  object \n",
            " 12  loan_status           396030 non-null  object \n",
            " 13  purpose               396030 non-null  object \n",
            " 14  title                 394275 non-null  object \n",
            " 15  dti                   396030 non-null  float64\n",
            " 16  earliest_cr_line      396030 non-null  object \n",
            " 17  open_acc              396030 non-null  float64\n",
            " 18  pub_rec               396030 non-null  float64\n",
            " 19  revol_bal             396030 non-null  float64\n",
            " 20  revol_util            395754 non-null  float64\n",
            " 21  total_acc             396030 non-null  float64\n",
            " 22  initial_list_status   396030 non-null  object \n",
            " 23  application_type      396030 non-null  object \n",
            " 24  mort_acc              358235 non-null  float64\n",
            " 25  pub_rec_bankruptcies  395495 non-null  float64\n",
            " 26  address               396030 non-null  object \n",
            " 27  loan_repaid           396030 non-null  int64  \n",
            "dtypes: float64(12), int64(1), object(15)\n",
            "memory usage: 84.6+ MB\n"
          ],
          "name": "stdout"
        }
      ]
    },
    {
      "cell_type": "code",
      "metadata": {
        "colab": {
          "base_uri": "https://localhost:8080/",
          "height": 382
        },
        "id": "K6LOPbdLTSna",
        "outputId": "894dd23a-f778-4e2c-85f7-8a75cf25c453"
      },
      "source": [
        "df.corr()['loan_repaid'].sort_values().drop('loan_repaid').plot(kind='bar')"
      ],
      "execution_count": 199,
      "outputs": [
        {
          "output_type": "execute_result",
          "data": {
            "text/plain": [
              "<matplotlib.axes._subplots.AxesSubplot at 0x7f2a01f40080>"
            ]
          },
          "metadata": {
            "tags": []
          },
          "execution_count": 199
        },
        {
          "output_type": "display_data",
          "data": {
            "image/png": "[encoded data removed]",
            "text/plain": [
              "<Figure size 432x288 with 1 Axes>"
            ]
          },
          "metadata": {
            "tags": [],
            "needs_background": "light"
          }
        }
      ]
    },
    {
      "cell_type": "markdown",
      "metadata": {
        "id": "2pcAQQa8U9E8"
      },
      "source": [
        "Data Preprocessing"
      ]
    },
    {
      "cell_type": "code",
      "metadata": {
        "colab": {
          "base_uri": "https://localhost:8080/",
          "height": 383
        },
        "id": "dbY7FKbfUO5d",
        "outputId": "0c78d649-6095-4b7e-c664-2ac12ca7ae88"
      },
      "source": [
        "df.head()"
      ],
      "execution_count": 200,
      "outputs": [
        {
          "output_type": "execute_result",
          "data": {
            "text/html": [
              "<div>\n",
              "<style scoped>\n",
              "    .dataframe tbody tr th:only-of-type {\n",
              "        vertical-align: middle;\n",
              "    }\n",
              "\n",
              "    .dataframe tbody tr th {\n",
              "        vertical-align: top;\n",
              "    }\n",
              "\n",
              "    .dataframe thead th {\n",
              "        text-align: right;\n",
              "    }\n",
              "</style>\n",
              "<table border=\"1\" class=\"dataframe\">\n",
              "  <thead>\n",
              "    <tr style=\"text-align: right;\">\n",
              "      <th></th>\n",
              "      <th>loan_amnt</th>\n",
              "      <th>term</th>\n",
              "      <th>int_rate</th>\n",
              "      <th>installment</th>\n",
              "      <th>grade</th>\n",
              "      <th>sub_grade</th>\n",
              "      <th>emp_title</th>\n",
              "      <th>emp_length</th>\n",
              "      <th>home_ownership</th>\n",
              "      <th>annual_inc</th>\n",
              "      <th>verification_status</th>\n",
              "      <th>issue_d</th>\n",
              "      <th>loan_status</th>\n",
              "      <th>purpose</th>\n",
              "      <th>title</th>\n",
              "      <th>dti</th>\n",
              "      <th>earliest_cr_line</th>\n",
              "      <th>open_acc</th>\n",
              "      <th>pub_rec</th>\n",
              "      <th>revol_bal</th>\n",
              "      <th>revol_util</th>\n",
              "      <th>total_acc</th>\n",
              "      <th>initial_list_status</th>\n",
              "      <th>application_type</th>\n",
              "      <th>mort_acc</th>\n",
              "      <th>pub_rec_bankruptcies</th>\n",
              "      <th>address</th>\n",
              "      <th>loan_repaid</th>\n",
              "    </tr>\n",
              "  </thead>\n",
              "  <tbody>\n",
              "    <tr>\n",
              "      <th>0</th>\n",
              "      <td>10000.0</td>\n",
              "      <td>36 months</td>\n",
              "      <td>11.44</td>\n",
              "      <td>329.48</td>\n",
              "      <td>B</td>\n",
              "      <td>B4</td>\n",
              "      <td>Marketing</td>\n",
              "      <td>10+ years</td>\n",
              "      <td>RENT</td>\n",
              "      <td>117000.0</td>\n",
              "      <td>Not Verified</td>\n",
              "      <td>Jan-2015</td>\n",
              "      <td>Fully Paid</td>\n",
              "      <td>vacation</td>\n",
              "      <td>Vacation</td>\n",
              "      <td>26.24</td>\n",
              "      <td>Jun-1990</td>\n",
              "      <td>16.0</td>\n",
              "      <td>0.0</td>\n",
              "      <td>36369.0</td>\n",
              "      <td>41.8</td>\n",
              "      <td>25.0</td>\n",
              "      <td>w</td>\n",
              "      <td>INDIVIDUAL</td>\n",
              "      <td>0.0</td>\n",
              "      <td>0.0</td>\n",
              "      <td>0174 Michelle Gateway\\nMendozaberg, OK 22690</td>\n",
              "      <td>1</td>\n",
              "    </tr>\n",
              "    <tr>\n",
              "      <th>1</th>\n",
              "      <td>8000.0</td>\n",
              "      <td>36 months</td>\n",
              "      <td>11.99</td>\n",
              "      <td>265.68</td>\n",
              "      <td>B</td>\n",
              "      <td>B5</td>\n",
              "      <td>Credit analyst</td>\n",
              "      <td>4 years</td>\n",
              "      <td>MORTGAGE</td>\n",
              "      <td>65000.0</td>\n",
              "      <td>Not Verified</td>\n",
              "      <td>Jan-2015</td>\n",
              "      <td>Fully Paid</td>\n",
              "      <td>debt_consolidation</td>\n",
              "      <td>Debt consolidation</td>\n",
              "      <td>22.05</td>\n",
              "      <td>Jul-2004</td>\n",
              "      <td>17.0</td>\n",
              "      <td>0.0</td>\n",
              "      <td>20131.0</td>\n",
              "      <td>53.3</td>\n",
              "      <td>27.0</td>\n",
              "      <td>f</td>\n",
              "      <td>INDIVIDUAL</td>\n",
              "      <td>3.0</td>\n",
              "      <td>0.0</td>\n",
              "      <td>1076 Carney Fort Apt. 347\\nLoganmouth, SD 05113</td>\n",
              "      <td>1</td>\n",
              "    </tr>\n",
              "    <tr>\n",
              "      <th>2</th>\n",
              "      <td>15600.0</td>\n",
              "      <td>36 months</td>\n",
              "      <td>10.49</td>\n",
              "      <td>506.97</td>\n",
              "      <td>B</td>\n",
              "      <td>B3</td>\n",
              "      <td>Statistician</td>\n",
              "      <td>&lt; 1 year</td>\n",
              "      <td>RENT</td>\n",
              "      <td>43057.0</td>\n",
              "      <td>Source Verified</td>\n",
              "      <td>Jan-2015</td>\n",
              "      <td>Fully Paid</td>\n",
              "      <td>credit_card</td>\n",
              "      <td>Credit card refinancing</td>\n",
              "      <td>12.79</td>\n",
              "      <td>Aug-2007</td>\n",
              "      <td>13.0</td>\n",
              "      <td>0.0</td>\n",
              "      <td>11987.0</td>\n",
              "      <td>92.2</td>\n",
              "      <td>26.0</td>\n",
              "      <td>f</td>\n",
              "      <td>INDIVIDUAL</td>\n",
              "      <td>0.0</td>\n",
              "      <td>0.0</td>\n",
              "      <td>87025 Mark Dale Apt. 269\\nNew Sabrina, WV 05113</td>\n",
              "      <td>1</td>\n",
              "    </tr>\n",
              "    <tr>\n",
              "      <th>3</th>\n",
              "      <td>7200.0</td>\n",
              "      <td>36 months</td>\n",
              "      <td>6.49</td>\n",
              "      <td>220.65</td>\n",
              "      <td>A</td>\n",
              "      <td>A2</td>\n",
              "      <td>Client Advocate</td>\n",
              "      <td>6 years</td>\n",
              "      <td>RENT</td>\n",
              "      <td>54000.0</td>\n",
              "      <td>Not Verified</td>\n",
              "      <td>Nov-2014</td>\n",
              "      <td>Fully Paid</td>\n",
              "      <td>credit_card</td>\n",
              "      <td>Credit card refinancing</td>\n",
              "      <td>2.60</td>\n",
              "      <td>Sep-2006</td>\n",
              "      <td>6.0</td>\n",
              "      <td>0.0</td>\n",
              "      <td>5472.0</td>\n",
              "      <td>21.5</td>\n",
              "      <td>13.0</td>\n",
              "      <td>f</td>\n",
              "      <td>INDIVIDUAL</td>\n",
              "      <td>0.0</td>\n",
              "      <td>0.0</td>\n",
              "      <td>823 Reid Ford\\nDelacruzside, MA 00813</td>\n",
              "      <td>1</td>\n",
              "    </tr>\n",
              "    <tr>\n",
              "      <th>4</th>\n",
              "      <td>24375.0</td>\n",
              "      <td>60 months</td>\n",
              "      <td>17.27</td>\n",
              "      <td>609.33</td>\n",
              "      <td>C</td>\n",
              "      <td>C5</td>\n",
              "      <td>Destiny Management Inc.</td>\n",
              "      <td>9 years</td>\n",
              "      <td>MORTGAGE</td>\n",
              "      <td>55000.0</td>\n",
              "      <td>Verified</td>\n",
              "      <td>Apr-2013</td>\n",
              "      <td>Charged Off</td>\n",
              "      <td>credit_card</td>\n",
              "      <td>Credit Card Refinance</td>\n",
              "      <td>33.95</td>\n",
              "      <td>Mar-1999</td>\n",
              "      <td>13.0</td>\n",
              "      <td>0.0</td>\n",
              "      <td>24584.0</td>\n",
              "      <td>69.8</td>\n",
              "      <td>43.0</td>\n",
              "      <td>f</td>\n",
              "      <td>INDIVIDUAL</td>\n",
              "      <td>1.0</td>\n",
              "      <td>0.0</td>\n",
              "      <td>679 Luna Roads\\nGreggshire, VA 11650</td>\n",
              "      <td>0</td>\n",
              "    </tr>\n",
              "  </tbody>\n",
              "</table>\n",
              "</div>"
            ],
            "text/plain": [
              "   loan_amnt  ... loan_repaid\n",
              "0    10000.0  ...           1\n",
              "1     8000.0  ...           1\n",
              "2    15600.0  ...           1\n",
              "3     7200.0  ...           1\n",
              "4    24375.0  ...           0\n",
              "\n",
              "[5 rows x 28 columns]"
            ]
          },
          "metadata": {
            "tags": []
          },
          "execution_count": 200
        }
      ]
    },
    {
      "cell_type": "code",
      "metadata": {
        "colab": {
          "base_uri": "https://localhost:8080/"
        },
        "id": "7TqeitLwVLzr",
        "outputId": "27d2f618-cf7e-4b78-a5b0-4d1d5c70755b"
      },
      "source": [
        "len(df)"
      ],
      "execution_count": 201,
      "outputs": [
        {
          "output_type": "execute_result",
          "data": {
            "text/plain": [
              "396030"
            ]
          },
          "metadata": {
            "tags": []
          },
          "execution_count": 201
        }
      ]
    },
    {
      "cell_type": "markdown",
      "metadata": {
        "id": "VCnSiWiuVS9z"
      },
      "source": [
        "Dealing with Missing data"
      ]
    },
    {
      "cell_type": "code",
      "metadata": {
        "colab": {
          "base_uri": "https://localhost:8080/"
        },
        "id": "bVCwaXeQVQjx",
        "outputId": "23c35af6-e040-47f2-f2db-3a836f432738"
      },
      "source": [
        "df.isnull().sum()"
      ],
      "execution_count": 202,
      "outputs": [
        {
          "output_type": "execute_result",
          "data": {
            "text/plain": [
              "loan_amnt                   0\n",
              "term                        0\n",
              "int_rate                    0\n",
              "installment                 0\n",
              "grade                       0\n",
              "sub_grade                   0\n",
              "emp_title               22927\n",
              "emp_length              18301\n",
              "home_ownership              0\n",
              "annual_inc                  0\n",
              "verification_status         0\n",
              "issue_d                     0\n",
              "loan_status                 0\n",
              "purpose                     0\n",
              "title                    1755\n",
              "dti                         0\n",
              "earliest_cr_line            0\n",
              "open_acc                    0\n",
              "pub_rec                     0\n",
              "revol_bal                   0\n",
              "revol_util                276\n",
              "total_acc                   0\n",
              "initial_list_status         0\n",
              "application_type            0\n",
              "mort_acc                37795\n",
              "pub_rec_bankruptcies      535\n",
              "address                     0\n",
              "loan_repaid                 0\n",
              "dtype: int64"
            ]
          },
          "metadata": {
            "tags": []
          },
          "execution_count": 202
        }
      ]
    },
    {
      "cell_type": "code",
      "metadata": {
        "colab": {
          "base_uri": "https://localhost:8080/"
        },
        "id": "renN_LKcVlgp",
        "outputId": "693f5d61-6198-46e8-c50c-9190d596db42"
      },
      "source": [
        "#printing data in terms of %\n",
        "100* df.isnull().sum()/len(df)"
      ],
      "execution_count": 203,
      "outputs": [
        {
          "output_type": "execute_result",
          "data": {
            "text/plain": [
              "loan_amnt               0.000000\n",
              "term                    0.000000\n",
              "int_rate                0.000000\n",
              "installment             0.000000\n",
              "grade                   0.000000\n",
              "sub_grade               0.000000\n",
              "emp_title               5.789208\n",
              "emp_length              4.621115\n",
              "home_ownership          0.000000\n",
              "annual_inc              0.000000\n",
              "verification_status     0.000000\n",
              "issue_d                 0.000000\n",
              "loan_status             0.000000\n",
              "purpose                 0.000000\n",
              "title                   0.443148\n",
              "dti                     0.000000\n",
              "earliest_cr_line        0.000000\n",
              "open_acc                0.000000\n",
              "pub_rec                 0.000000\n",
              "revol_bal               0.000000\n",
              "revol_util              0.069692\n",
              "total_acc               0.000000\n",
              "initial_list_status     0.000000\n",
              "application_type        0.000000\n",
              "mort_acc                9.543469\n",
              "pub_rec_bankruptcies    0.135091\n",
              "address                 0.000000\n",
              "loan_repaid             0.000000\n",
              "dtype: float64"
            ]
          },
          "metadata": {
            "tags": []
          },
          "execution_count": 203
        }
      ]
    },
    {
      "cell_type": "code",
      "metadata": {
        "colab": {
          "base_uri": "https://localhost:8080/"
        },
        "id": "OIXTraLKV2m2",
        "outputId": "2cabc34f-e50a-4ed8-bab9-63a0336c6608"
      },
      "source": [
        "feat_info('emp_title')\n",
        "feat_info('emp_length')"
      ],
      "execution_count": 204,
      "outputs": [
        {
          "output_type": "stream",
          "text": [
            "The job title supplied by the Borrower when applying for the loan.*\n",
            "Employment length in years. Possible values are between 0 and 10 where 0 means less than one year and 10 means ten or more years. \n"
          ],
          "name": "stdout"
        }
      ]
    },
    {
      "cell_type": "code",
      "metadata": {
        "colab": {
          "base_uri": "https://localhost:8080/"
        },
        "id": "bkjNBqmlWNne",
        "outputId": "37c2942f-f96f-44a2-945d-3875893b2f72"
      },
      "source": [
        "df['emp_title'].nunique()"
      ],
      "execution_count": 205,
      "outputs": [
        {
          "output_type": "execute_result",
          "data": {
            "text/plain": [
              "173105"
            ]
          },
          "metadata": {
            "tags": []
          },
          "execution_count": 205
        }
      ]
    },
    {
      "cell_type": "code",
      "metadata": {
        "colab": {
          "base_uri": "https://localhost:8080/"
        },
        "id": "vSTzR--IWioj",
        "outputId": "6b31e12a-b25f-4c36-cec5-4128ffbcc5bd"
      },
      "source": [
        "df['emp_title'].value_counts()"
      ],
      "execution_count": 206,
      "outputs": [
        {
          "output_type": "execute_result",
          "data": {
            "text/plain": [
              "Teacher                                4389\n",
              "Manager                                4250\n",
              "Registered Nurse                       1856\n",
              "RN                                     1846\n",
              "Supervisor                             1830\n",
              "                                       ... \n",
              "kansas city kansas housing authoity       1\n",
              "Call center associate                     1\n",
              "Monroe Township                           1\n",
              "Regional Manager for Africa               1\n",
              "Meridian Township                         1\n",
              "Name: emp_title, Length: 173105, dtype: int64"
            ]
          },
          "metadata": {
            "tags": []
          },
          "execution_count": 206
        }
      ]
    },
    {
      "cell_type": "code",
      "metadata": {
        "id": "v7g1miY3WtER"
      },
      "source": [
        "#too many unique job titles\n",
        "#cant create dummy variables\n",
        "df.drop('emp_title',axis=1,inplace=True)"
      ],
      "execution_count": 207,
      "outputs": []
    },
    {
      "cell_type": "code",
      "metadata": {
        "colab": {
          "base_uri": "https://localhost:8080/",
          "height": 383
        },
        "id": "huh7VgZQXHUZ",
        "outputId": "27d2bfd2-7811-4cda-fb5e-5544c86962a8"
      },
      "source": [
        "df.head()"
      ],
      "execution_count": 208,
      "outputs": [
        {
          "output_type": "execute_result",
          "data": {
            "text/html": [
              "<div>\n",
              "<style scoped>\n",
              "    .dataframe tbody tr th:only-of-type {\n",
              "        vertical-align: middle;\n",
              "    }\n",
              "\n",
              "    .dataframe tbody tr th {\n",
              "        vertical-align: top;\n",
              "    }\n",
              "\n",
              "    .dataframe thead th {\n",
              "        text-align: right;\n",
              "    }\n",
              "</style>\n",
              "<table border=\"1\" class=\"dataframe\">\n",
              "  <thead>\n",
              "    <tr style=\"text-align: right;\">\n",
              "      <th></th>\n",
              "      <th>loan_amnt</th>\n",
              "      <th>term</th>\n",
              "      <th>int_rate</th>\n",
              "      <th>installment</th>\n",
              "      <th>grade</th>\n",
              "      <th>sub_grade</th>\n",
              "      <th>emp_length</th>\n",
              "      <th>home_ownership</th>\n",
              "      <th>annual_inc</th>\n",
              "      <th>verification_status</th>\n",
              "      <th>issue_d</th>\n",
              "      <th>loan_status</th>\n",
              "      <th>purpose</th>\n",
              "      <th>title</th>\n",
              "      <th>dti</th>\n",
              "      <th>earliest_cr_line</th>\n",
              "      <th>open_acc</th>\n",
              "      <th>pub_rec</th>\n",
              "      <th>revol_bal</th>\n",
              "      <th>revol_util</th>\n",
              "      <th>total_acc</th>\n",
              "      <th>initial_list_status</th>\n",
              "      <th>application_type</th>\n",
              "      <th>mort_acc</th>\n",
              "      <th>pub_rec_bankruptcies</th>\n",
              "      <th>address</th>\n",
              "      <th>loan_repaid</th>\n",
              "    </tr>\n",
              "  </thead>\n",
              "  <tbody>\n",
              "    <tr>\n",
              "      <th>0</th>\n",
              "      <td>10000.0</td>\n",
              "      <td>36 months</td>\n",
              "      <td>11.44</td>\n",
              "      <td>329.48</td>\n",
              "      <td>B</td>\n",
              "      <td>B4</td>\n",
              "      <td>10+ years</td>\n",
              "      <td>RENT</td>\n",
              "      <td>117000.0</td>\n",
              "      <td>Not Verified</td>\n",
              "      <td>Jan-2015</td>\n",
              "      <td>Fully Paid</td>\n",
              "      <td>vacation</td>\n",
              "      <td>Vacation</td>\n",
              "      <td>26.24</td>\n",
              "      <td>Jun-1990</td>\n",
              "      <td>16.0</td>\n",
              "      <td>0.0</td>\n",
              "      <td>36369.0</td>\n",
              "      <td>41.8</td>\n",
              "      <td>25.0</td>\n",
              "      <td>w</td>\n",
              "      <td>INDIVIDUAL</td>\n",
              "      <td>0.0</td>\n",
              "      <td>0.0</td>\n",
              "      <td>0174 Michelle Gateway\\nMendozaberg, OK 22690</td>\n",
              "      <td>1</td>\n",
              "    </tr>\n",
              "    <tr>\n",
              "      <th>1</th>\n",
              "      <td>8000.0</td>\n",
              "      <td>36 months</td>\n",
              "      <td>11.99</td>\n",
              "      <td>265.68</td>\n",
              "      <td>B</td>\n",
              "      <td>B5</td>\n",
              "      <td>4 years</td>\n",
              "      <td>MORTGAGE</td>\n",
              "      <td>65000.0</td>\n",
              "      <td>Not Verified</td>\n",
              "      <td>Jan-2015</td>\n",
              "      <td>Fully Paid</td>\n",
              "      <td>debt_consolidation</td>\n",
              "      <td>Debt consolidation</td>\n",
              "      <td>22.05</td>\n",
              "      <td>Jul-2004</td>\n",
              "      <td>17.0</td>\n",
              "      <td>0.0</td>\n",
              "      <td>20131.0</td>\n",
              "      <td>53.3</td>\n",
              "      <td>27.0</td>\n",
              "      <td>f</td>\n",
              "      <td>INDIVIDUAL</td>\n",
              "      <td>3.0</td>\n",
              "      <td>0.0</td>\n",
              "      <td>1076 Carney Fort Apt. 347\\nLoganmouth, SD 05113</td>\n",
              "      <td>1</td>\n",
              "    </tr>\n",
              "    <tr>\n",
              "      <th>2</th>\n",
              "      <td>15600.0</td>\n",
              "      <td>36 months</td>\n",
              "      <td>10.49</td>\n",
              "      <td>506.97</td>\n",
              "      <td>B</td>\n",
              "      <td>B3</td>\n",
              "      <td>&lt; 1 year</td>\n",
              "      <td>RENT</td>\n",
              "      <td>43057.0</td>\n",
              "      <td>Source Verified</td>\n",
              "      <td>Jan-2015</td>\n",
              "      <td>Fully Paid</td>\n",
              "      <td>credit_card</td>\n",
              "      <td>Credit card refinancing</td>\n",
              "      <td>12.79</td>\n",
              "      <td>Aug-2007</td>\n",
              "      <td>13.0</td>\n",
              "      <td>0.0</td>\n",
              "      <td>11987.0</td>\n",
              "      <td>92.2</td>\n",
              "      <td>26.0</td>\n",
              "      <td>f</td>\n",
              "      <td>INDIVIDUAL</td>\n",
              "      <td>0.0</td>\n",
              "      <td>0.0</td>\n",
              "      <td>87025 Mark Dale Apt. 269\\nNew Sabrina, WV 05113</td>\n",
              "      <td>1</td>\n",
              "    </tr>\n",
              "    <tr>\n",
              "      <th>3</th>\n",
              "      <td>7200.0</td>\n",
              "      <td>36 months</td>\n",
              "      <td>6.49</td>\n",
              "      <td>220.65</td>\n",
              "      <td>A</td>\n",
              "      <td>A2</td>\n",
              "      <td>6 years</td>\n",
              "      <td>RENT</td>\n",
              "      <td>54000.0</td>\n",
              "      <td>Not Verified</td>\n",
              "      <td>Nov-2014</td>\n",
              "      <td>Fully Paid</td>\n",
              "      <td>credit_card</td>\n",
              "      <td>Credit card refinancing</td>\n",
              "      <td>2.60</td>\n",
              "      <td>Sep-2006</td>\n",
              "      <td>6.0</td>\n",
              "      <td>0.0</td>\n",
              "      <td>5472.0</td>\n",
              "      <td>21.5</td>\n",
              "      <td>13.0</td>\n",
              "      <td>f</td>\n",
              "      <td>INDIVIDUAL</td>\n",
              "      <td>0.0</td>\n",
              "      <td>0.0</td>\n",
              "      <td>823 Reid Ford\\nDelacruzside, MA 00813</td>\n",
              "      <td>1</td>\n",
              "    </tr>\n",
              "    <tr>\n",
              "      <th>4</th>\n",
              "      <td>24375.0</td>\n",
              "      <td>60 months</td>\n",
              "      <td>17.27</td>\n",
              "      <td>609.33</td>\n",
              "      <td>C</td>\n",
              "      <td>C5</td>\n",
              "      <td>9 years</td>\n",
              "      <td>MORTGAGE</td>\n",
              "      <td>55000.0</td>\n",
              "      <td>Verified</td>\n",
              "      <td>Apr-2013</td>\n",
              "      <td>Charged Off</td>\n",
              "      <td>credit_card</td>\n",
              "      <td>Credit Card Refinance</td>\n",
              "      <td>33.95</td>\n",
              "      <td>Mar-1999</td>\n",
              "      <td>13.0</td>\n",
              "      <td>0.0</td>\n",
              "      <td>24584.0</td>\n",
              "      <td>69.8</td>\n",
              "      <td>43.0</td>\n",
              "      <td>f</td>\n",
              "      <td>INDIVIDUAL</td>\n",
              "      <td>1.0</td>\n",
              "      <td>0.0</td>\n",
              "      <td>679 Luna Roads\\nGreggshire, VA 11650</td>\n",
              "      <td>0</td>\n",
              "    </tr>\n",
              "  </tbody>\n",
              "</table>\n",
              "</div>"
            ],
            "text/plain": [
              "   loan_amnt  ... loan_repaid\n",
              "0    10000.0  ...           1\n",
              "1     8000.0  ...           1\n",
              "2    15600.0  ...           1\n",
              "3     7200.0  ...           1\n",
              "4    24375.0  ...           0\n",
              "\n",
              "[5 rows x 27 columns]"
            ]
          },
          "metadata": {
            "tags": []
          },
          "execution_count": 208
        }
      ]
    },
    {
      "cell_type": "code",
      "metadata": {
        "colab": {
          "base_uri": "https://localhost:8080/"
        },
        "id": "OSGZTr3rXIwO",
        "outputId": "b04685d8-2ad0-4321-8968-e5b7b9957489"
      },
      "source": [
        "df['emp_length'].unique()"
      ],
      "execution_count": 209,
      "outputs": [
        {
          "output_type": "execute_result",
          "data": {
            "text/plain": [
              "array(['10+ years', '4 years', '< 1 year', '6 years', '9 years',\n",
              "       '2 years', '3 years', '8 years', '7 years', '5 years', '1 year',\n",
              "       nan], dtype=object)"
            ]
          },
          "metadata": {
            "tags": []
          },
          "execution_count": 209
        }
      ]
    },
    {
      "cell_type": "code",
      "metadata": {
        "colab": {
          "base_uri": "https://localhost:8080/",
          "height": 297
        },
        "id": "T4sdZVlcXTQD",
        "outputId": "82ee98b7-9e4c-40df-d85e-6237fb9c8a22"
      },
      "source": [
        "emp_length_order = ['< 1 year',\n",
        "                    '1 year',\n",
        "                    '2 years', \n",
        "                    '3 years', \n",
        "                    '4 years',\n",
        "                    '5 years',\n",
        "                    '6 years',\n",
        "                    '7 years',\n",
        "                    '8 years',\n",
        "                    '9 years',   \n",
        "                    '10+ years']\n",
        "sns.countplot(x='emp_length',data=df,order=emp_length_order)"
      ],
      "execution_count": 210,
      "outputs": [
        {
          "output_type": "execute_result",
          "data": {
            "text/plain": [
              "<matplotlib.axes._subplots.AxesSubplot at 0x7f2a01e59d30>"
            ]
          },
          "metadata": {
            "tags": []
          },
          "execution_count": 210
        },
        {
          "output_type": "display_data",
          "data": {
            "image/png": "[encoded data removed]",
            "text/plain": [
              "<Figure size 432x288 with 1 Axes>"
            ]
          },
          "metadata": {
            "tags": [],
            "needs_background": "light"
          }
        }
      ]
    },
    {
      "cell_type": "code",
      "metadata": {
        "colab": {
          "base_uri": "https://localhost:8080/",
          "height": 297
        },
        "id": "JtlZJaePYsxF",
        "outputId": "c7f1019b-affb-4ac5-b9fa-fb0dd8106f44"
      },
      "source": [
        "sns.countplot(x='emp_length',data=df,order=emp_length_order,hue='loan_status')"
      ],
      "execution_count": 211,
      "outputs": [
        {
          "output_type": "execute_result",
          "data": {
            "text/plain": [
              "<matplotlib.axes._subplots.AxesSubplot at 0x7f2a01e4f9e8>"
            ]
          },
          "metadata": {
            "tags": []
          },
          "execution_count": 211
        },
        {
          "output_type": "display_data",
          "data": {
            "image/png": "[encoded data removed]",
            "text/plain": [
              "<Figure size 432x288 with 1 Axes>"
            ]
          },
          "metadata": {
            "tags": [],
            "needs_background": "light"
          }
        }
      ]
    },
    {
      "cell_type": "markdown",
      "metadata": {
        "id": "H-xb3B_kaEZR"
      },
      "source": [
        "This does not tell us about the relationship between employment length and charge offs."
      ]
    },
    {
      "cell_type": "code",
      "metadata": {
        "id": "hHkSV_zKY1dI"
      },
      "source": [
        "emp_co = df[df['loan_status']==\"Charged Off\"].groupby('emp_length').count()['loan_status']"
      ],
      "execution_count": 212,
      "outputs": []
    },
    {
      "cell_type": "code",
      "metadata": {
        "id": "8vgwlgiZcQJV"
      },
      "source": [
        "emp_fp = df[df['loan_status']==\"Fully Paid\"].groupby('emp_length').count()['loan_status']"
      ],
      "execution_count": 213,
      "outputs": []
    },
    {
      "cell_type": "code",
      "metadata": {
        "id": "t6lO3JmLceUf"
      },
      "source": [
        "emp_per = emp_co/emp_fp"
      ],
      "execution_count": 214,
      "outputs": []
    },
    {
      "cell_type": "code",
      "metadata": {
        "colab": {
          "base_uri": "https://localhost:8080/"
        },
        "id": "9hnvvSgNclVj",
        "outputId": "b05d3838-8673-486f-b247-9ea59167c0e8"
      },
      "source": [
        "emp_per"
      ],
      "execution_count": 215,
      "outputs": [
        {
          "output_type": "execute_result",
          "data": {
            "text/plain": [
              "emp_length\n",
              "1 year       0.248649\n",
              "10+ years    0.225770\n",
              "2 years      0.239560\n",
              "3 years      0.242593\n",
              "4 years      0.238213\n",
              "5 years      0.237911\n",
              "6 years      0.233341\n",
              "7 years      0.241887\n",
              "8 years      0.249625\n",
              "9 years      0.250735\n",
              "< 1 year     0.260830\n",
              "Name: loan_status, dtype: float64"
            ]
          },
          "metadata": {
            "tags": []
          },
          "execution_count": 215
        }
      ]
    },
    {
      "cell_type": "code",
      "metadata": {
        "colab": {
          "base_uri": "https://localhost:8080/",
          "height": 339
        },
        "id": "UJKEjZ7EcnRP",
        "outputId": "a715f692-36bd-44a1-e557-67f6076117f1"
      },
      "source": [
        "emp_per.plot(kind='bar')"
      ],
      "execution_count": 216,
      "outputs": [
        {
          "output_type": "execute_result",
          "data": {
            "text/plain": [
              "<matplotlib.axes._subplots.AxesSubplot at 0x7f2a01dbadd8>"
            ]
          },
          "metadata": {
            "tags": []
          },
          "execution_count": 216
        },
        {
          "output_type": "display_data",
          "data": {
            "image/png": "[encoded data removed]",
            "text/plain": [
              "<Figure size 432x288 with 1 Axes>"
            ]
          },
          "metadata": {
            "tags": [],
            "needs_background": "light"
          }
        }
      ]
    },
    {
      "cell_type": "markdown",
      "metadata": {
        "id": "nZUOTv6Hc4R7"
      },
      "source": [
        "Not a significant difference between charged off by years of experience. It is better to drop this attritbute"
      ]
    },
    {
      "cell_type": "code",
      "metadata": {
        "id": "GfhCym52c3FD"
      },
      "source": [
        "df.drop('emp_length',axis=1,inplace=True)"
      ],
      "execution_count": 217,
      "outputs": []
    },
    {
      "cell_type": "code",
      "metadata": {
        "colab": {
          "base_uri": "https://localhost:8080/"
        },
        "id": "b9b3EPcSdK_h",
        "outputId": "6c851c63-5593-490a-bfab-0648164b89a2"
      },
      "source": [
        "df.isnull().sum()"
      ],
      "execution_count": 218,
      "outputs": [
        {
          "output_type": "execute_result",
          "data": {
            "text/plain": [
              "loan_amnt                   0\n",
              "term                        0\n",
              "int_rate                    0\n",
              "installment                 0\n",
              "grade                       0\n",
              "sub_grade                   0\n",
              "home_ownership              0\n",
              "annual_inc                  0\n",
              "verification_status         0\n",
              "issue_d                     0\n",
              "loan_status                 0\n",
              "purpose                     0\n",
              "title                    1755\n",
              "dti                         0\n",
              "earliest_cr_line            0\n",
              "open_acc                    0\n",
              "pub_rec                     0\n",
              "revol_bal                   0\n",
              "revol_util                276\n",
              "total_acc                   0\n",
              "initial_list_status         0\n",
              "application_type            0\n",
              "mort_acc                37795\n",
              "pub_rec_bankruptcies      535\n",
              "address                     0\n",
              "loan_repaid                 0\n",
              "dtype: int64"
            ]
          },
          "metadata": {
            "tags": []
          },
          "execution_count": 218
        }
      ]
    },
    {
      "cell_type": "code",
      "metadata": {
        "colab": {
          "base_uri": "https://localhost:8080/"
        },
        "id": "TS3ElRvNePY8",
        "outputId": "01a9ecf1-75b7-481e-b30c-a1bd35e708d7"
      },
      "source": [
        "df.info()"
      ],
      "execution_count": 219,
      "outputs": [
        {
          "output_type": "stream",
          "text": [
            "<class 'pandas.core.frame.DataFrame'>\n",
            "RangeIndex: 396030 entries, 0 to 396029\n",
            "Data columns (total 26 columns):\n",
            " #   Column                Non-Null Count   Dtype  \n",
            "---  ------                --------------   -----  \n",
            " 0   loan_amnt             396030 non-null  float64\n",
            " 1   term                  396030 non-null  object \n",
            " 2   int_rate              396030 non-null  float64\n",
            " 3   installment           396030 non-null  float64\n",
            " 4   grade                 396030 non-null  object \n",
            " 5   sub_grade             396030 non-null  object \n",
            " 6   home_ownership        396030 non-null  object \n",
            " 7   annual_inc            396030 non-null  float64\n",
            " 8   verification_status   396030 non-null  object \n",
            " 9   issue_d               396030 non-null  object \n",
            " 10  loan_status           396030 non-null  object \n",
            " 11  purpose               396030 non-null  object \n",
            " 12  title                 394275 non-null  object \n",
            " 13  dti                   396030 non-null  float64\n",
            " 14  earliest_cr_line      396030 non-null  object \n",
            " 15  open_acc              396030 non-null  float64\n",
            " 16  pub_rec               396030 non-null  float64\n",
            " 17  revol_bal             396030 non-null  float64\n",
            " 18  revol_util            395754 non-null  float64\n",
            " 19  total_acc             396030 non-null  float64\n",
            " 20  initial_list_status   396030 non-null  object \n",
            " 21  application_type      396030 non-null  object \n",
            " 22  mort_acc              358235 non-null  float64\n",
            " 23  pub_rec_bankruptcies  395495 non-null  float64\n",
            " 24  address               396030 non-null  object \n",
            " 25  loan_repaid           396030 non-null  int64  \n",
            "dtypes: float64(12), int64(1), object(13)\n",
            "memory usage: 78.6+ MB\n"
          ],
          "name": "stdout"
        }
      ]
    },
    {
      "cell_type": "code",
      "metadata": {
        "colab": {
          "base_uri": "https://localhost:8080/",
          "height": 383
        },
        "id": "tZoThHgleZTS",
        "outputId": "a072d7bf-40c1-4829-ce09-e99b1bf6b38c"
      },
      "source": [
        "df.head()"
      ],
      "execution_count": 220,
      "outputs": [
        {
          "output_type": "execute_result",
          "data": {
            "text/html": [
              "<div>\n",
              "<style scoped>\n",
              "    .dataframe tbody tr th:only-of-type {\n",
              "        vertical-align: middle;\n",
              "    }\n",
              "\n",
              "    .dataframe tbody tr th {\n",
              "        vertical-align: top;\n",
              "    }\n",
              "\n",
              "    .dataframe thead th {\n",
              "        text-align: right;\n",
              "    }\n",
              "</style>\n",
              "<table border=\"1\" class=\"dataframe\">\n",
              "  <thead>\n",
              "    <tr style=\"text-align: right;\">\n",
              "      <th></th>\n",
              "      <th>loan_amnt</th>\n",
              "      <th>term</th>\n",
              "      <th>int_rate</th>\n",
              "      <th>installment</th>\n",
              "      <th>grade</th>\n",
              "      <th>sub_grade</th>\n",
              "      <th>home_ownership</th>\n",
              "      <th>annual_inc</th>\n",
              "      <th>verification_status</th>\n",
              "      <th>issue_d</th>\n",
              "      <th>loan_status</th>\n",
              "      <th>purpose</th>\n",
              "      <th>title</th>\n",
              "      <th>dti</th>\n",
              "      <th>earliest_cr_line</th>\n",
              "      <th>open_acc</th>\n",
              "      <th>pub_rec</th>\n",
              "      <th>revol_bal</th>\n",
              "      <th>revol_util</th>\n",
              "      <th>total_acc</th>\n",
              "      <th>initial_list_status</th>\n",
              "      <th>application_type</th>\n",
              "      <th>mort_acc</th>\n",
              "      <th>pub_rec_bankruptcies</th>\n",
              "      <th>address</th>\n",
              "      <th>loan_repaid</th>\n",
              "    </tr>\n",
              "  </thead>\n",
              "  <tbody>\n",
              "    <tr>\n",
              "      <th>0</th>\n",
              "      <td>10000.0</td>\n",
              "      <td>36 months</td>\n",
              "      <td>11.44</td>\n",
              "      <td>329.48</td>\n",
              "      <td>B</td>\n",
              "      <td>B4</td>\n",
              "      <td>RENT</td>\n",
              "      <td>117000.0</td>\n",
              "      <td>Not Verified</td>\n",
              "      <td>Jan-2015</td>\n",
              "      <td>Fully Paid</td>\n",
              "      <td>vacation</td>\n",
              "      <td>Vacation</td>\n",
              "      <td>26.24</td>\n",
              "      <td>Jun-1990</td>\n",
              "      <td>16.0</td>\n",
              "      <td>0.0</td>\n",
              "      <td>36369.0</td>\n",
              "      <td>41.8</td>\n",
              "      <td>25.0</td>\n",
              "      <td>w</td>\n",
              "      <td>INDIVIDUAL</td>\n",
              "      <td>0.0</td>\n",
              "      <td>0.0</td>\n",
              "      <td>0174 Michelle Gateway\\nMendozaberg, OK 22690</td>\n",
              "      <td>1</td>\n",
              "    </tr>\n",
              "    <tr>\n",
              "      <th>1</th>\n",
              "      <td>8000.0</td>\n",
              "      <td>36 months</td>\n",
              "      <td>11.99</td>\n",
              "      <td>265.68</td>\n",
              "      <td>B</td>\n",
              "      <td>B5</td>\n",
              "      <td>MORTGAGE</td>\n",
              "      <td>65000.0</td>\n",
              "      <td>Not Verified</td>\n",
              "      <td>Jan-2015</td>\n",
              "      <td>Fully Paid</td>\n",
              "      <td>debt_consolidation</td>\n",
              "      <td>Debt consolidation</td>\n",
              "      <td>22.05</td>\n",
              "      <td>Jul-2004</td>\n",
              "      <td>17.0</td>\n",
              "      <td>0.0</td>\n",
              "      <td>20131.0</td>\n",
              "      <td>53.3</td>\n",
              "      <td>27.0</td>\n",
              "      <td>f</td>\n",
              "      <td>INDIVIDUAL</td>\n",
              "      <td>3.0</td>\n",
              "      <td>0.0</td>\n",
              "      <td>1076 Carney Fort Apt. 347\\nLoganmouth, SD 05113</td>\n",
              "      <td>1</td>\n",
              "    </tr>\n",
              "    <tr>\n",
              "      <th>2</th>\n",
              "      <td>15600.0</td>\n",
              "      <td>36 months</td>\n",
              "      <td>10.49</td>\n",
              "      <td>506.97</td>\n",
              "      <td>B</td>\n",
              "      <td>B3</td>\n",
              "      <td>RENT</td>\n",
              "      <td>43057.0</td>\n",
              "      <td>Source Verified</td>\n",
              "      <td>Jan-2015</td>\n",
              "      <td>Fully Paid</td>\n",
              "      <td>credit_card</td>\n",
              "      <td>Credit card refinancing</td>\n",
              "      <td>12.79</td>\n",
              "      <td>Aug-2007</td>\n",
              "      <td>13.0</td>\n",
              "      <td>0.0</td>\n",
              "      <td>11987.0</td>\n",
              "      <td>92.2</td>\n",
              "      <td>26.0</td>\n",
              "      <td>f</td>\n",
              "      <td>INDIVIDUAL</td>\n",
              "      <td>0.0</td>\n",
              "      <td>0.0</td>\n",
              "      <td>87025 Mark Dale Apt. 269\\nNew Sabrina, WV 05113</td>\n",
              "      <td>1</td>\n",
              "    </tr>\n",
              "    <tr>\n",
              "      <th>3</th>\n",
              "      <td>7200.0</td>\n",
              "      <td>36 months</td>\n",
              "      <td>6.49</td>\n",
              "      <td>220.65</td>\n",
              "      <td>A</td>\n",
              "      <td>A2</td>\n",
              "      <td>RENT</td>\n",
              "      <td>54000.0</td>\n",
              "      <td>Not Verified</td>\n",
              "      <td>Nov-2014</td>\n",
              "      <td>Fully Paid</td>\n",
              "      <td>credit_card</td>\n",
              "      <td>Credit card refinancing</td>\n",
              "      <td>2.60</td>\n",
              "      <td>Sep-2006</td>\n",
              "      <td>6.0</td>\n",
              "      <td>0.0</td>\n",
              "      <td>5472.0</td>\n",
              "      <td>21.5</td>\n",
              "      <td>13.0</td>\n",
              "      <td>f</td>\n",
              "      <td>INDIVIDUAL</td>\n",
              "      <td>0.0</td>\n",
              "      <td>0.0</td>\n",
              "      <td>823 Reid Ford\\nDelacruzside, MA 00813</td>\n",
              "      <td>1</td>\n",
              "    </tr>\n",
              "    <tr>\n",
              "      <th>4</th>\n",
              "      <td>24375.0</td>\n",
              "      <td>60 months</td>\n",
              "      <td>17.27</td>\n",
              "      <td>609.33</td>\n",
              "      <td>C</td>\n",
              "      <td>C5</td>\n",
              "      <td>MORTGAGE</td>\n",
              "      <td>55000.0</td>\n",
              "      <td>Verified</td>\n",
              "      <td>Apr-2013</td>\n",
              "      <td>Charged Off</td>\n",
              "      <td>credit_card</td>\n",
              "      <td>Credit Card Refinance</td>\n",
              "      <td>33.95</td>\n",
              "      <td>Mar-1999</td>\n",
              "      <td>13.0</td>\n",
              "      <td>0.0</td>\n",
              "      <td>24584.0</td>\n",
              "      <td>69.8</td>\n",
              "      <td>43.0</td>\n",
              "      <td>f</td>\n",
              "      <td>INDIVIDUAL</td>\n",
              "      <td>1.0</td>\n",
              "      <td>0.0</td>\n",
              "      <td>679 Luna Roads\\nGreggshire, VA 11650</td>\n",
              "      <td>0</td>\n",
              "    </tr>\n",
              "  </tbody>\n",
              "</table>\n",
              "</div>"
            ],
            "text/plain": [
              "   loan_amnt  ... loan_repaid\n",
              "0    10000.0  ...           1\n",
              "1     8000.0  ...           1\n",
              "2    15600.0  ...           1\n",
              "3     7200.0  ...           1\n",
              "4    24375.0  ...           0\n",
              "\n",
              "[5 rows x 26 columns]"
            ]
          },
          "metadata": {
            "tags": []
          },
          "execution_count": 220
        }
      ]
    },
    {
      "cell_type": "markdown",
      "metadata": {
        "id": "FqcvqKtFewY4"
      },
      "source": [
        "Purpose and title looks similar"
      ]
    },
    {
      "cell_type": "code",
      "metadata": {
        "colab": {
          "base_uri": "https://localhost:8080/"
        },
        "id": "0Ue6JtQXemYa",
        "outputId": "50435fe2-9163-4180-fa84-3c19cd4cdd2d"
      },
      "source": [
        "df['purpose']"
      ],
      "execution_count": 221,
      "outputs": [
        {
          "output_type": "execute_result",
          "data": {
            "text/plain": [
              "0                   vacation\n",
              "1         debt_consolidation\n",
              "2                credit_card\n",
              "3                credit_card\n",
              "4                credit_card\n",
              "                 ...        \n",
              "396025    debt_consolidation\n",
              "396026    debt_consolidation\n",
              "396027    debt_consolidation\n",
              "396028    debt_consolidation\n",
              "396029    debt_consolidation\n",
              "Name: purpose, Length: 396030, dtype: object"
            ]
          },
          "metadata": {
            "tags": []
          },
          "execution_count": 221
        }
      ]
    },
    {
      "cell_type": "code",
      "metadata": {
        "colab": {
          "base_uri": "https://localhost:8080/"
        },
        "id": "EL7zsXRNe2cO",
        "outputId": "eb8740d8-dcda-4946-9bb0-0386f27c3730"
      },
      "source": [
        "df['title']"
      ],
      "execution_count": 222,
      "outputs": [
        {
          "output_type": "execute_result",
          "data": {
            "text/plain": [
              "0                        Vacation\n",
              "1              Debt consolidation\n",
              "2         Credit card refinancing\n",
              "3         Credit card refinancing\n",
              "4           Credit Card Refinance\n",
              "                   ...           \n",
              "396025         Debt consolidation\n",
              "396026         Debt consolidation\n",
              "396027       pay off credit cards\n",
              "396028              Loanforpayoff\n",
              "396029          Toxic Debt Payoff\n",
              "Name: title, Length: 396030, dtype: object"
            ]
          },
          "metadata": {
            "tags": []
          },
          "execution_count": 222
        }
      ]
    },
    {
      "cell_type": "code",
      "metadata": {
        "id": "iRj07RjNe4rk"
      },
      "source": [
        "df.drop('title',axis=1,inplace=True)"
      ],
      "execution_count": 223,
      "outputs": []
    },
    {
      "cell_type": "code",
      "metadata": {
        "colab": {
          "base_uri": "https://localhost:8080/",
          "height": 383
        },
        "id": "EaFFhDlhfJ4g",
        "outputId": "1c1926a4-ef41-46c4-e9db-9aaba09bac17"
      },
      "source": [
        "df.head()"
      ],
      "execution_count": 224,
      "outputs": [
        {
          "output_type": "execute_result",
          "data": {
            "text/html": [
              "<div>\n",
              "<style scoped>\n",
              "    .dataframe tbody tr th:only-of-type {\n",
              "        vertical-align: middle;\n",
              "    }\n",
              "\n",
              "    .dataframe tbody tr th {\n",
              "        vertical-align: top;\n",
              "    }\n",
              "\n",
              "    .dataframe thead th {\n",
              "        text-align: right;\n",
              "    }\n",
              "</style>\n",
              "<table border=\"1\" class=\"dataframe\">\n",
              "  <thead>\n",
              "    <tr style=\"text-align: right;\">\n",
              "      <th></th>\n",
              "      <th>loan_amnt</th>\n",
              "      <th>term</th>\n",
              "      <th>int_rate</th>\n",
              "      <th>installment</th>\n",
              "      <th>grade</th>\n",
              "      <th>sub_grade</th>\n",
              "      <th>home_ownership</th>\n",
              "      <th>annual_inc</th>\n",
              "      <th>verification_status</th>\n",
              "      <th>issue_d</th>\n",
              "      <th>loan_status</th>\n",
              "      <th>purpose</th>\n",
              "      <th>dti</th>\n",
              "      <th>earliest_cr_line</th>\n",
              "      <th>open_acc</th>\n",
              "      <th>pub_rec</th>\n",
              "      <th>revol_bal</th>\n",
              "      <th>revol_util</th>\n",
              "      <th>total_acc</th>\n",
              "      <th>initial_list_status</th>\n",
              "      <th>application_type</th>\n",
              "      <th>mort_acc</th>\n",
              "      <th>pub_rec_bankruptcies</th>\n",
              "      <th>address</th>\n",
              "      <th>loan_repaid</th>\n",
              "    </tr>\n",
              "  </thead>\n",
              "  <tbody>\n",
              "    <tr>\n",
              "      <th>0</th>\n",
              "      <td>10000.0</td>\n",
              "      <td>36 months</td>\n",
              "      <td>11.44</td>\n",
              "      <td>329.48</td>\n",
              "      <td>B</td>\n",
              "      <td>B4</td>\n",
              "      <td>RENT</td>\n",
              "      <td>117000.0</td>\n",
              "      <td>Not Verified</td>\n",
              "      <td>Jan-2015</td>\n",
              "      <td>Fully Paid</td>\n",
              "      <td>vacation</td>\n",
              "      <td>26.24</td>\n",
              "      <td>Jun-1990</td>\n",
              "      <td>16.0</td>\n",
              "      <td>0.0</td>\n",
              "      <td>36369.0</td>\n",
              "      <td>41.8</td>\n",
              "      <td>25.0</td>\n",
              "      <td>w</td>\n",
              "      <td>INDIVIDUAL</td>\n",
              "      <td>0.0</td>\n",
              "      <td>0.0</td>\n",
              "      <td>0174 Michelle Gateway\\nMendozaberg, OK 22690</td>\n",
              "      <td>1</td>\n",
              "    </tr>\n",
              "    <tr>\n",
              "      <th>1</th>\n",
              "      <td>8000.0</td>\n",
              "      <td>36 months</td>\n",
              "      <td>11.99</td>\n",
              "      <td>265.68</td>\n",
              "      <td>B</td>\n",
              "      <td>B5</td>\n",
              "      <td>MORTGAGE</td>\n",
              "      <td>65000.0</td>\n",
              "      <td>Not Verified</td>\n",
              "      <td>Jan-2015</td>\n",
              "      <td>Fully Paid</td>\n",
              "      <td>debt_consolidation</td>\n",
              "      <td>22.05</td>\n",
              "      <td>Jul-2004</td>\n",
              "      <td>17.0</td>\n",
              "      <td>0.0</td>\n",
              "      <td>20131.0</td>\n",
              "      <td>53.3</td>\n",
              "      <td>27.0</td>\n",
              "      <td>f</td>\n",
              "      <td>INDIVIDUAL</td>\n",
              "      <td>3.0</td>\n",
              "      <td>0.0</td>\n",
              "      <td>1076 Carney Fort Apt. 347\\nLoganmouth, SD 05113</td>\n",
              "      <td>1</td>\n",
              "    </tr>\n",
              "    <tr>\n",
              "      <th>2</th>\n",
              "      <td>15600.0</td>\n",
              "      <td>36 months</td>\n",
              "      <td>10.49</td>\n",
              "      <td>506.97</td>\n",
              "      <td>B</td>\n",
              "      <td>B3</td>\n",
              "      <td>RENT</td>\n",
              "      <td>43057.0</td>\n",
              "      <td>Source Verified</td>\n",
              "      <td>Jan-2015</td>\n",
              "      <td>Fully Paid</td>\n",
              "      <td>credit_card</td>\n",
              "      <td>12.79</td>\n",
              "      <td>Aug-2007</td>\n",
              "      <td>13.0</td>\n",
              "      <td>0.0</td>\n",
              "      <td>11987.0</td>\n",
              "      <td>92.2</td>\n",
              "      <td>26.0</td>\n",
              "      <td>f</td>\n",
              "      <td>INDIVIDUAL</td>\n",
              "      <td>0.0</td>\n",
              "      <td>0.0</td>\n",
              "      <td>87025 Mark Dale Apt. 269\\nNew Sabrina, WV 05113</td>\n",
              "      <td>1</td>\n",
              "    </tr>\n",
              "    <tr>\n",
              "      <th>3</th>\n",
              "      <td>7200.0</td>\n",
              "      <td>36 months</td>\n",
              "      <td>6.49</td>\n",
              "      <td>220.65</td>\n",
              "      <td>A</td>\n",
              "      <td>A2</td>\n",
              "      <td>RENT</td>\n",
              "      <td>54000.0</td>\n",
              "      <td>Not Verified</td>\n",
              "      <td>Nov-2014</td>\n",
              "      <td>Fully Paid</td>\n",
              "      <td>credit_card</td>\n",
              "      <td>2.60</td>\n",
              "      <td>Sep-2006</td>\n",
              "      <td>6.0</td>\n",
              "      <td>0.0</td>\n",
              "      <td>5472.0</td>\n",
              "      <td>21.5</td>\n",
              "      <td>13.0</td>\n",
              "      <td>f</td>\n",
              "      <td>INDIVIDUAL</td>\n",
              "      <td>0.0</td>\n",
              "      <td>0.0</td>\n",
              "      <td>823 Reid Ford\\nDelacruzside, MA 00813</td>\n",
              "      <td>1</td>\n",
              "    </tr>\n",
              "    <tr>\n",
              "      <th>4</th>\n",
              "      <td>24375.0</td>\n",
              "      <td>60 months</td>\n",
              "      <td>17.27</td>\n",
              "      <td>609.33</td>\n",
              "      <td>C</td>\n",
              "      <td>C5</td>\n",
              "      <td>MORTGAGE</td>\n",
              "      <td>55000.0</td>\n",
              "      <td>Verified</td>\n",
              "      <td>Apr-2013</td>\n",
              "      <td>Charged Off</td>\n",
              "      <td>credit_card</td>\n",
              "      <td>33.95</td>\n",
              "      <td>Mar-1999</td>\n",
              "      <td>13.0</td>\n",
              "      <td>0.0</td>\n",
              "      <td>24584.0</td>\n",
              "      <td>69.8</td>\n",
              "      <td>43.0</td>\n",
              "      <td>f</td>\n",
              "      <td>INDIVIDUAL</td>\n",
              "      <td>1.0</td>\n",
              "      <td>0.0</td>\n",
              "      <td>679 Luna Roads\\nGreggshire, VA 11650</td>\n",
              "      <td>0</td>\n",
              "    </tr>\n",
              "  </tbody>\n",
              "</table>\n",
              "</div>"
            ],
            "text/plain": [
              "   loan_amnt  ... loan_repaid\n",
              "0    10000.0  ...           1\n",
              "1     8000.0  ...           1\n",
              "2    15600.0  ...           1\n",
              "3     7200.0  ...           1\n",
              "4    24375.0  ...           0\n",
              "\n",
              "[5 rows x 25 columns]"
            ]
          },
          "metadata": {
            "tags": []
          },
          "execution_count": 224
        }
      ]
    },
    {
      "cell_type": "code",
      "metadata": {
        "colab": {
          "base_uri": "https://localhost:8080/"
        },
        "id": "_MUWL4OYfSCQ",
        "outputId": "56a79062-ca8c-4cbc-abc1-59e778df5578"
      },
      "source": [
        "feat_info('mort_acc')"
      ],
      "execution_count": 225,
      "outputs": [
        {
          "output_type": "stream",
          "text": [
            "Number of mortgage accounts.\n"
          ],
          "name": "stdout"
        }
      ]
    },
    {
      "cell_type": "code",
      "metadata": {
        "colab": {
          "base_uri": "https://localhost:8080/"
        },
        "id": "r8i6zo23fd_p",
        "outputId": "882362d0-9212-4628-d813-48965b3b301a"
      },
      "source": [
        "df['mort_acc'].value_counts()"
      ],
      "execution_count": 226,
      "outputs": [
        {
          "output_type": "execute_result",
          "data": {
            "text/plain": [
              "0.0     139777\n",
              "1.0      60416\n",
              "2.0      49948\n",
              "3.0      38049\n",
              "4.0      27887\n",
              "5.0      18194\n",
              "6.0      11069\n",
              "7.0       6052\n",
              "8.0       3121\n",
              "9.0       1656\n",
              "10.0       865\n",
              "11.0       479\n",
              "12.0       264\n",
              "13.0       146\n",
              "14.0       107\n",
              "15.0        61\n",
              "16.0        37\n",
              "17.0        22\n",
              "18.0        18\n",
              "19.0        15\n",
              "20.0        13\n",
              "24.0        10\n",
              "22.0         7\n",
              "21.0         4\n",
              "25.0         4\n",
              "27.0         3\n",
              "23.0         2\n",
              "32.0         2\n",
              "26.0         2\n",
              "31.0         2\n",
              "30.0         1\n",
              "28.0         1\n",
              "34.0         1\n",
              "Name: mort_acc, dtype: int64"
            ]
          },
          "metadata": {
            "tags": []
          },
          "execution_count": 226
        }
      ]
    },
    {
      "cell_type": "code",
      "metadata": {
        "colab": {
          "base_uri": "https://localhost:8080/"
        },
        "id": "VBZAraVNfoJZ",
        "outputId": "f31919f7-be7f-42d0-931e-988973c4624c"
      },
      "source": [
        "df.corr()['mort_acc']"
      ],
      "execution_count": 227,
      "outputs": [
        {
          "output_type": "execute_result",
          "data": {
            "text/plain": [
              "loan_amnt               0.222315\n",
              "int_rate               -0.082583\n",
              "installment             0.193694\n",
              "annual_inc              0.236320\n",
              "dti                    -0.025439\n",
              "open_acc                0.109205\n",
              "pub_rec                 0.011552\n",
              "revol_bal               0.194925\n",
              "revol_util              0.007514\n",
              "total_acc               0.381072\n",
              "mort_acc                1.000000\n",
              "pub_rec_bankruptcies    0.027239\n",
              "loan_repaid             0.073111\n",
              "Name: mort_acc, dtype: float64"
            ]
          },
          "metadata": {
            "tags": []
          },
          "execution_count": 227
        }
      ]
    },
    {
      "cell_type": "code",
      "metadata": {
        "colab": {
          "base_uri": "https://localhost:8080/"
        },
        "id": "PK5u1sTzgSu8",
        "outputId": "1d70eb6b-5043-403c-cf36-9cc01d8eb60c"
      },
      "source": [
        "feat_info('mort_acc')\n",
        "feat_info('total_acc')"
      ],
      "execution_count": 228,
      "outputs": [
        {
          "output_type": "stream",
          "text": [
            "Number of mortgage accounts.\n",
            "The total number of credit lines currently in the borrower's credit file\n"
          ],
          "name": "stdout"
        }
      ]
    },
    {
      "cell_type": "markdown",
      "metadata": {
        "id": "vOodNAAvghC5"
      },
      "source": [
        "total_acc and mort_acc are most corelated"
      ]
    },
    {
      "cell_type": "code",
      "metadata": {
        "colab": {
          "base_uri": "https://localhost:8080/"
        },
        "id": "XtYK1RQrgfRy",
        "outputId": "b831c3db-5d57-41eb-f491-18ef44a22fbb"
      },
      "source": [
        "df.groupby('total_acc').mean()['mort_acc']"
      ],
      "execution_count": 229,
      "outputs": [
        {
          "output_type": "execute_result",
          "data": {
            "text/plain": [
              "total_acc\n",
              "2.0      0.000000\n",
              "3.0      0.052023\n",
              "4.0      0.066743\n",
              "5.0      0.103289\n",
              "6.0      0.151293\n",
              "           ...   \n",
              "124.0    1.000000\n",
              "129.0    1.000000\n",
              "135.0    3.000000\n",
              "150.0    2.000000\n",
              "151.0    0.000000\n",
              "Name: mort_acc, Length: 118, dtype: float64"
            ]
          },
          "metadata": {
            "tags": []
          },
          "execution_count": 229
        }
      ]
    },
    {
      "cell_type": "code",
      "metadata": {
        "id": "SSW_bOOvg4GU"
      },
      "source": [
        "total_acc_avg = df.groupby('total_acc').mean()['mort_acc']"
      ],
      "execution_count": 230,
      "outputs": []
    },
    {
      "cell_type": "code",
      "metadata": {
        "id": "wsi8AsR8haJM"
      },
      "source": [
        "def fill_mort_acc(total_acc,mort_acc):\n",
        "    '''\n",
        "    Accepts the total_acc and mort_acc values for the row.\n",
        "    Checks if the mort_acc is NaN , if so, it returns the avg mort_acc value\n",
        "    for the corresponding total_acc value for that row.\n",
        "    \n",
        "    total_acc_avg here should be a Series or dictionary containing the mapping of the\n",
        "    groupby averages of mort_acc per total_acc values.\n",
        "    '''\n",
        "    if np.isnan(mort_acc):\n",
        "        return total_acc_avg[total_acc]\n",
        "    else:\n",
        "        return mort_acc"
      ],
      "execution_count": 231,
      "outputs": []
    },
    {
      "cell_type": "code",
      "metadata": {
        "id": "vGjTwBlghdFJ"
      },
      "source": [
        "df['mort_acc'] = df.apply(lambda x: fill_mort_acc(x['total_acc'], x['mort_acc']), axis=1)"
      ],
      "execution_count": 232,
      "outputs": []
    },
    {
      "cell_type": "code",
      "metadata": {
        "colab": {
          "base_uri": "https://localhost:8080/"
        },
        "id": "UBKrRpzJhgPn",
        "outputId": "dd622107-0dd5-4d84-e5a2-c9a7c7d6471d"
      },
      "source": [
        "df.isnull().sum()"
      ],
      "execution_count": 233,
      "outputs": [
        {
          "output_type": "execute_result",
          "data": {
            "text/plain": [
              "loan_amnt                 0\n",
              "term                      0\n",
              "int_rate                  0\n",
              "installment               0\n",
              "grade                     0\n",
              "sub_grade                 0\n",
              "home_ownership            0\n",
              "annual_inc                0\n",
              "verification_status       0\n",
              "issue_d                   0\n",
              "loan_status               0\n",
              "purpose                   0\n",
              "dti                       0\n",
              "earliest_cr_line          0\n",
              "open_acc                  0\n",
              "pub_rec                   0\n",
              "revol_bal                 0\n",
              "revol_util              276\n",
              "total_acc                 0\n",
              "initial_list_status       0\n",
              "application_type          0\n",
              "mort_acc                  0\n",
              "pub_rec_bankruptcies    535\n",
              "address                   0\n",
              "loan_repaid               0\n",
              "dtype: int64"
            ]
          },
          "metadata": {
            "tags": []
          },
          "execution_count": 233
        }
      ]
    },
    {
      "cell_type": "code",
      "metadata": {
        "id": "XGhhx7I5hnnm"
      },
      "source": [
        "df = df.dropna()"
      ],
      "execution_count": 234,
      "outputs": []
    },
    {
      "cell_type": "code",
      "metadata": {
        "colab": {
          "base_uri": "https://localhost:8080/"
        },
        "id": "U48DiMZShv6d",
        "outputId": "420d9017-afe1-4a89-902b-43fa528a5744"
      },
      "source": [
        "df.isnull().sum()"
      ],
      "execution_count": 235,
      "outputs": [
        {
          "output_type": "execute_result",
          "data": {
            "text/plain": [
              "loan_amnt               0\n",
              "term                    0\n",
              "int_rate                0\n",
              "installment             0\n",
              "grade                   0\n",
              "sub_grade               0\n",
              "home_ownership          0\n",
              "annual_inc              0\n",
              "verification_status     0\n",
              "issue_d                 0\n",
              "loan_status             0\n",
              "purpose                 0\n",
              "dti                     0\n",
              "earliest_cr_line        0\n",
              "open_acc                0\n",
              "pub_rec                 0\n",
              "revol_bal               0\n",
              "revol_util              0\n",
              "total_acc               0\n",
              "initial_list_status     0\n",
              "application_type        0\n",
              "mort_acc                0\n",
              "pub_rec_bankruptcies    0\n",
              "address                 0\n",
              "loan_repaid             0\n",
              "dtype: int64"
            ]
          },
          "metadata": {
            "tags": []
          },
          "execution_count": 235
        }
      ]
    },
    {
      "cell_type": "markdown",
      "metadata": {
        "id": "5xiAyrdnfzO9"
      },
      "source": [
        "Dealing with Categorical Data and inserting dummy variables"
      ]
    },
    {
      "cell_type": "code",
      "metadata": {
        "id": "4LaFAuUjhx0f",
        "colab": {
          "base_uri": "https://localhost:8080/"
        },
        "outputId": "01b67199-b130-483e-c1b2-8c88a65b6fc3"
      },
      "source": [
        "df.info()"
      ],
      "execution_count": 236,
      "outputs": [
        {
          "output_type": "stream",
          "text": [
            "<class 'pandas.core.frame.DataFrame'>\n",
            "Int64Index: 395219 entries, 0 to 396029\n",
            "Data columns (total 25 columns):\n",
            " #   Column                Non-Null Count   Dtype  \n",
            "---  ------                --------------   -----  \n",
            " 0   loan_amnt             395219 non-null  float64\n",
            " 1   term                  395219 non-null  object \n",
            " 2   int_rate              395219 non-null  float64\n",
            " 3   installment           395219 non-null  float64\n",
            " 4   grade                 395219 non-null  object \n",
            " 5   sub_grade             395219 non-null  object \n",
            " 6   home_ownership        395219 non-null  object \n",
            " 7   annual_inc            395219 non-null  float64\n",
            " 8   verification_status   395219 non-null  object \n",
            " 9   issue_d               395219 non-null  object \n",
            " 10  loan_status           395219 non-null  object \n",
            " 11  purpose               395219 non-null  object \n",
            " 12  dti                   395219 non-null  float64\n",
            " 13  earliest_cr_line      395219 non-null  object \n",
            " 14  open_acc              395219 non-null  float64\n",
            " 15  pub_rec               395219 non-null  float64\n",
            " 16  revol_bal             395219 non-null  float64\n",
            " 17  revol_util            395219 non-null  float64\n",
            " 18  total_acc             395219 non-null  float64\n",
            " 19  initial_list_status   395219 non-null  object \n",
            " 20  application_type      395219 non-null  object \n",
            " 21  mort_acc              395219 non-null  float64\n",
            " 22  pub_rec_bankruptcies  395219 non-null  float64\n",
            " 23  address               395219 non-null  object \n",
            " 24  loan_repaid           395219 non-null  int64  \n",
            "dtypes: float64(12), int64(1), object(12)\n",
            "memory usage: 78.4+ MB\n"
          ],
          "name": "stdout"
        }
      ]
    },
    {
      "cell_type": "code",
      "metadata": {
        "colab": {
          "base_uri": "https://localhost:8080/"
        },
        "id": "EEjt3k0bfw-g",
        "outputId": "4b023f2d-4182-4daf-d121-27a453b71a92"
      },
      "source": [
        "df['term']"
      ],
      "execution_count": 237,
      "outputs": [
        {
          "output_type": "execute_result",
          "data": {
            "text/plain": [
              "0          36 months\n",
              "1          36 months\n",
              "2          36 months\n",
              "3          36 months\n",
              "4          60 months\n",
              "             ...    \n",
              "396025     60 months\n",
              "396026     36 months\n",
              "396027     36 months\n",
              "396028     60 months\n",
              "396029     36 months\n",
              "Name: term, Length: 395219, dtype: object"
            ]
          },
          "metadata": {
            "tags": []
          },
          "execution_count": 237
        }
      ]
    },
    {
      "cell_type": "code",
      "metadata": {
        "colab": {
          "base_uri": "https://localhost:8080/"
        },
        "id": "B0AAVR40gIAv",
        "outputId": "8e89ae9a-8569-4ef1-d030-e9c7eae612af"
      },
      "source": [
        "df['term'].unique()"
      ],
      "execution_count": 238,
      "outputs": [
        {
          "output_type": "execute_result",
          "data": {
            "text/plain": [
              "array([' 36 months', ' 60 months'], dtype=object)"
            ]
          },
          "metadata": {
            "tags": []
          },
          "execution_count": 238
        }
      ]
    },
    {
      "cell_type": "code",
      "metadata": {
        "id": "nKyqyCXVgK46"
      },
      "source": [
        "df['term'] = df['term'].map({' 36 months':36,' 60 months':60})"
      ],
      "execution_count": 239,
      "outputs": []
    },
    {
      "cell_type": "code",
      "metadata": {
        "colab": {
          "base_uri": "https://localhost:8080/"
        },
        "id": "jIwuX_5TgZjP",
        "outputId": "81b5fcf7-1e2d-4fdc-9af0-1b0f81b389e7"
      },
      "source": [
        "df['term'].unique()"
      ],
      "execution_count": 240,
      "outputs": [
        {
          "output_type": "execute_result",
          "data": {
            "text/plain": [
              "array([36, 60])"
            ]
          },
          "metadata": {
            "tags": []
          },
          "execution_count": 240
        }
      ]
    },
    {
      "cell_type": "code",
      "metadata": {
        "id": "Eto_eW93gbgN"
      },
      "source": [
        "#grade and sub_grade are similar \n",
        "#garde is a subset of sub_grade\n",
        "#we will drop grade\n",
        "df.drop('grade',axis=1,inplace=True)"
      ],
      "execution_count": 241,
      "outputs": []
    },
    {
      "cell_type": "code",
      "metadata": {
        "id": "-KCqpEeliVhQ"
      },
      "source": [
        "#sub grade is useful\n",
        "#we will create dummmy variables\n",
        "subgrade_dummies = pd.get_dummies(df['sub_grade'],drop_first=True)"
      ],
      "execution_count": 242,
      "outputs": []
    },
    {
      "cell_type": "code",
      "metadata": {
        "id": "UXplir3Ti15F"
      },
      "source": [
        "\n",
        "df = pd.concat([df.drop('sub_grade',axis=1),subgrade_dummies],axis=1)"
      ],
      "execution_count": 243,
      "outputs": []
    },
    {
      "cell_type": "code",
      "metadata": {
        "colab": {
          "base_uri": "https://localhost:8080/"
        },
        "id": "mAakuuqUjZSl",
        "outputId": "9b928071-c393-48fa-bd01-206515c854ee"
      },
      "source": [
        "df.columns"
      ],
      "execution_count": 244,
      "outputs": [
        {
          "output_type": "execute_result",
          "data": {
            "text/plain": [
              "Index(['loan_amnt', 'term', 'int_rate', 'installment', 'home_ownership',\n",
              "       'annual_inc', 'verification_status', 'issue_d', 'loan_status',\n",
              "       'purpose', 'dti', 'earliest_cr_line', 'open_acc', 'pub_rec',\n",
              "       'revol_bal', 'revol_util', 'total_acc', 'initial_list_status',\n",
              "       'application_type', 'mort_acc', 'pub_rec_bankruptcies', 'address',\n",
              "       'loan_repaid', 'A2', 'A3', 'A4', 'A5', 'B1', 'B2', 'B3', 'B4', 'B5',\n",
              "       'C1', 'C2', 'C3', 'C4', 'C5', 'D1', 'D2', 'D3', 'D4', 'D5', 'E1', 'E2',\n",
              "       'E3', 'E4', 'E5', 'F1', 'F2', 'F3', 'F4', 'F5', 'G1', 'G2', 'G3', 'G4',\n",
              "       'G5'],\n",
              "      dtype='object')"
            ]
          },
          "metadata": {
            "tags": []
          },
          "execution_count": 244
        }
      ]
    },
    {
      "cell_type": "code",
      "metadata": {
        "colab": {
          "base_uri": "https://localhost:8080/"
        },
        "id": "foPeZo08jayr",
        "outputId": "3179941e-928e-47ca-857a-b8bc1a2fd27e"
      },
      "source": [
        "df.select_dtypes(['object']).columns"
      ],
      "execution_count": 245,
      "outputs": [
        {
          "output_type": "execute_result",
          "data": {
            "text/plain": [
              "Index(['home_ownership', 'verification_status', 'issue_d', 'loan_status',\n",
              "       'purpose', 'earliest_cr_line', 'initial_list_status',\n",
              "       'application_type', 'address'],\n",
              "      dtype='object')"
            ]
          },
          "metadata": {
            "tags": []
          },
          "execution_count": 245
        }
      ]
    },
    {
      "cell_type": "code",
      "metadata": {
        "colab": {
          "base_uri": "https://localhost:8080/"
        },
        "id": "WVunIjb8joHr",
        "outputId": "051c3eca-1411-4b7b-9cca-fd177edbb37d"
      },
      "source": [
        "df['home_ownership'].value_counts()"
      ],
      "execution_count": 246,
      "outputs": [
        {
          "output_type": "execute_result",
          "data": {
            "text/plain": [
              "MORTGAGE    198022\n",
              "RENT        159395\n",
              "OWN          37660\n",
              "OTHER          110\n",
              "NONE            29\n",
              "ANY              3\n",
              "Name: home_ownership, dtype: int64"
            ]
          },
          "metadata": {
            "tags": []
          },
          "execution_count": 246
        }
      ]
    },
    {
      "cell_type": "code",
      "metadata": {
        "id": "imeTjlt4jwYd"
      },
      "source": [
        "#none and any seems to be small and can be included into \n",
        "#other\n",
        "df['home_ownership'] = df['home_ownership'].replace(['NONE','ANY'],'OTHER')"
      ],
      "execution_count": 247,
      "outputs": []
    },
    {
      "cell_type": "code",
      "metadata": {
        "colab": {
          "base_uri": "https://localhost:8080/"
        },
        "id": "--lAcZm6kV4h",
        "outputId": "06250be8-86c3-46df-eb5c-08c1eaa2e43a"
      },
      "source": [
        "df['home_ownership'].value_counts()"
      ],
      "execution_count": 248,
      "outputs": [
        {
          "output_type": "execute_result",
          "data": {
            "text/plain": [
              "MORTGAGE    198022\n",
              "RENT        159395\n",
              "OWN          37660\n",
              "OTHER          142\n",
              "Name: home_ownership, dtype: int64"
            ]
          },
          "metadata": {
            "tags": []
          },
          "execution_count": 248
        }
      ]
    },
    {
      "cell_type": "code",
      "metadata": {
        "id": "ieiAGgNMkZIY"
      },
      "source": [
        "#setting dummy variables\n",
        "home_ownership_dummies = pd.get_dummies(df['home_ownership'],drop_first=True)"
      ],
      "execution_count": 249,
      "outputs": []
    },
    {
      "cell_type": "code",
      "metadata": {
        "id": "fXkQ_vRGktqN"
      },
      "source": [
        "df = pd.concat([df.drop('home_ownership',axis=1),home_ownership_dummies],axis=1)"
      ],
      "execution_count": 250,
      "outputs": []
    },
    {
      "cell_type": "code",
      "metadata": {
        "colab": {
          "base_uri": "https://localhost:8080/"
        },
        "id": "03KgFletk7A1",
        "outputId": "8241f662-a2a4-4492-86e3-708c36a2e08f"
      },
      "source": [
        "df.select_dtypes(['object']).columns"
      ],
      "execution_count": 251,
      "outputs": [
        {
          "output_type": "execute_result",
          "data": {
            "text/plain": [
              "Index(['verification_status', 'issue_d', 'loan_status', 'purpose',\n",
              "       'earliest_cr_line', 'initial_list_status', 'application_type',\n",
              "       'address'],\n",
              "      dtype='object')"
            ]
          },
          "metadata": {
            "tags": []
          },
          "execution_count": 251
        }
      ]
    },
    {
      "cell_type": "code",
      "metadata": {
        "colab": {
          "base_uri": "https://localhost:8080/"
        },
        "id": "8w1MlKqylKvw",
        "outputId": "981f7921-d372-4326-cb16-c6cef22e09c4"
      },
      "source": [
        "#adress can be feuture engineered\n",
        "df['address']"
      ],
      "execution_count": 252,
      "outputs": [
        {
          "output_type": "execute_result",
          "data": {
            "text/plain": [
              "0              0174 Michelle Gateway\\nMendozaberg, OK 22690\n",
              "1           1076 Carney Fort Apt. 347\\nLoganmouth, SD 05113\n",
              "2           87025 Mark Dale Apt. 269\\nNew Sabrina, WV 05113\n",
              "3                     823 Reid Ford\\nDelacruzside, MA 00813\n",
              "4                      679 Luna Roads\\nGreggshire, VA 11650\n",
              "                                ...                        \n",
              "396025       12951 Williams Crossing\\nJohnnyville, DC 30723\n",
              "396026    0114 Fowler Field Suite 028\\nRachelborough, LA...\n",
              "396027     953 Matthew Points Suite 414\\nReedfort, NY 70466\n",
              "396028    7843 Blake Freeway Apt. 229\\nNew Michael, FL 2...\n",
              "396029          787 Michelle Causeway\\nBriannaton, AR 48052\n",
              "Name: address, Length: 395219, dtype: object"
            ]
          },
          "metadata": {
            "tags": []
          },
          "execution_count": 252
        }
      ]
    },
    {
      "cell_type": "code",
      "metadata": {
        "id": "n5mRlBJ6lVHD"
      },
      "source": [
        "#we are more interested in zip codes in the address\n",
        "#they are the last 5 string literals in the address string\n",
        "df['zip_code'] = df['address'].apply(lambda address:address[-5:])\n"
      ],
      "execution_count": 253,
      "outputs": []
    },
    {
      "cell_type": "code",
      "metadata": {
        "id": "NGEWjv5Wl8pB"
      },
      "source": [
        "zip_codes_dummies = pd.get_dummies(df['zip_code'],drop_first=True)"
      ],
      "execution_count": 255,
      "outputs": []
    },
    {
      "cell_type": "code",
      "metadata": {
        "id": "eVDiBqL8nPNY"
      },
      "source": [
        "df.drop(['zip_code','address'],axis=1,inplace=True)"
      ],
      "execution_count": 256,
      "outputs": []
    },
    {
      "cell_type": "code",
      "metadata": {
        "id": "Nx9tBQzcoI8t"
      },
      "source": [
        "df = pd.concat([df,zip_codes_dummies],axis=1)"
      ],
      "execution_count": 257,
      "outputs": []
    },
    {
      "cell_type": "code",
      "metadata": {
        "colab": {
          "base_uri": "https://localhost:8080/"
        },
        "id": "uJTm3HygoSgm",
        "outputId": "0687d0bc-1ee4-41be-9b76-4c7081f07a2f"
      },
      "source": [
        "df.select_dtypes(['object']).columns"
      ],
      "execution_count": 258,
      "outputs": [
        {
          "output_type": "execute_result",
          "data": {
            "text/plain": [
              "Index(['verification_status', 'issue_d', 'loan_status', 'purpose',\n",
              "       'earliest_cr_line', 'initial_list_status', 'application_type'],\n",
              "      dtype='object')"
            ]
          },
          "metadata": {
            "tags": []
          },
          "execution_count": 258
        }
      ]
    },
    {
      "cell_type": "code",
      "metadata": {
        "colab": {
          "base_uri": "https://localhost:8080/"
        },
        "id": "Sgeyt40MoVW8",
        "outputId": "c9304c19-06ee-47ce-89a1-9b992c9c1cb7"
      },
      "source": [
        "feat_info('issue_d')"
      ],
      "execution_count": 260,
      "outputs": [
        {
          "output_type": "stream",
          "text": [
            "The month which the loan was funded\n"
          ],
          "name": "stdout"
        }
      ]
    },
    {
      "cell_type": "code",
      "metadata": {
        "colab": {
          "base_uri": "https://localhost:8080/"
        },
        "id": "cql6IC9molrx",
        "outputId": "0160c840-8450-4141-b1b7-694aa582c3ab"
      },
      "source": [
        "df['issue_d'].value_counts().sort_values(ascending=False)"
      ],
      "execution_count": 267,
      "outputs": [
        {
          "output_type": "execute_result",
          "data": {
            "text/plain": [
              "Oct-2014    14838\n",
              "Jul-2014    12597\n",
              "Jan-2015    11701\n",
              "Dec-2013    10609\n",
              "Nov-2013    10492\n",
              "            ...  \n",
              "Jan-2008        3\n",
              "Dec-2007        2\n",
              "Oct-2007        1\n",
              "Nov-2007        1\n",
              "Aug-2007        1\n",
              "Name: issue_d, Length: 112, dtype: int64"
            ]
          },
          "metadata": {
            "tags": []
          },
          "execution_count": 267
        }
      ]
    },
    {
      "cell_type": "code",
      "metadata": {
        "id": "Tyr82mYyoqBM"
      },
      "source": [
        "df.drop('issue_d',axis=1,inplace=True)"
      ],
      "execution_count": 268,
      "outputs": []
    },
    {
      "cell_type": "code",
      "metadata": {
        "colab": {
          "base_uri": "https://localhost:8080/"
        },
        "id": "Qn0xqLhApbiD",
        "outputId": "a83ed60f-3ffa-40bd-e2b2-e3a2c6c6e338"
      },
      "source": [
        "feat_info('earliest_cr_line')"
      ],
      "execution_count": 269,
      "outputs": [
        {
          "output_type": "stream",
          "text": [
            "The month the borrower's earliest reported credit line was opened\n"
          ],
          "name": "stdout"
        }
      ]
    },
    {
      "cell_type": "code",
      "metadata": {
        "colab": {
          "base_uri": "https://localhost:8080/"
        },
        "id": "arj-pB-zphC4",
        "outputId": "f719aa5b-f509-4020-b09b-7b1ebf7feff7"
      },
      "source": [
        "df['earliest_cr_line']"
      ],
      "execution_count": 270,
      "outputs": [
        {
          "output_type": "execute_result",
          "data": {
            "text/plain": [
              "0         Jun-1990\n",
              "1         Jul-2004\n",
              "2         Aug-2007\n",
              "3         Sep-2006\n",
              "4         Mar-1999\n",
              "            ...   \n",
              "396025    Nov-2004\n",
              "396026    Feb-2006\n",
              "396027    Mar-1997\n",
              "396028    Nov-1990\n",
              "396029    Sep-1998\n",
              "Name: earliest_cr_line, Length: 395219, dtype: object"
            ]
          },
          "metadata": {
            "tags": []
          },
          "execution_count": 270
        }
      ]
    },
    {
      "cell_type": "code",
      "metadata": {
        "id": "TWWAq7dWpjrM"
      },
      "source": [
        "df['earliest_cr_year'] = df['earliest_cr_line'].apply(lambda x:int(x[-4:]))\n"
      ],
      "execution_count": 271,
      "outputs": []
    },
    {
      "cell_type": "code",
      "metadata": {
        "colab": {
          "base_uri": "https://localhost:8080/"
        },
        "id": "vPRSwY6KqZkm",
        "outputId": "3afc79af-a710-4d53-cd6b-206d7f8feb1e"
      },
      "source": [
        "df['earliest_cr_year']"
      ],
      "execution_count": 272,
      "outputs": [
        {
          "output_type": "execute_result",
          "data": {
            "text/plain": [
              "0         1990\n",
              "1         2004\n",
              "2         2007\n",
              "3         2006\n",
              "4         1999\n",
              "          ... \n",
              "396025    2004\n",
              "396026    2006\n",
              "396027    1997\n",
              "396028    1990\n",
              "396029    1998\n",
              "Name: earliest_cr_year, Length: 395219, dtype: int64"
            ]
          },
          "metadata": {
            "tags": []
          },
          "execution_count": 272
        }
      ]
    },
    {
      "cell_type": "code",
      "metadata": {
        "id": "XFSs3CiJqbMK"
      },
      "source": [
        "df.drop('earliest_cr_line',axis=1,inplace=True)"
      ],
      "execution_count": 273,
      "outputs": []
    },
    {
      "cell_type": "code",
      "metadata": {
        "colab": {
          "base_uri": "https://localhost:8080/"
        },
        "id": "cDMjuOq9qlcA",
        "outputId": "088f4181-0691-46d8-81b3-6e3f380a0e33"
      },
      "source": [
        "df.select_dtypes(['object']).columns"
      ],
      "execution_count": 274,
      "outputs": [
        {
          "output_type": "execute_result",
          "data": {
            "text/plain": [
              "Index(['verification_status', 'loan_status', 'purpose', 'initial_list_status',\n",
              "       'application_type'],\n",
              "      dtype='object')"
            ]
          },
          "metadata": {
            "tags": []
          },
          "execution_count": 274
        }
      ]
    },
    {
      "cell_type": "code",
      "metadata": {
        "id": "NrlR8IsWqr5S"
      },
      "source": [
        "dummies = pd.get_dummies(df[['verification_status', 'application_type','initial_list_status','purpose' ]],drop_first=True)\n",
        "df = df.drop(['verification_status', 'application_type','initial_list_status','purpose'],axis=1)\n",
        "df = pd.concat([df,dummies],axis=1)"
      ],
      "execution_count": 275,
      "outputs": []
    },
    {
      "cell_type": "code",
      "metadata": {
        "colab": {
          "base_uri": "https://localhost:8080/"
        },
        "id": "MAGmMq0irF04",
        "outputId": "cd63886d-5956-4afc-a22f-2b1355341688"
      },
      "source": [
        "df.select_dtypes(['object']).columns"
      ],
      "execution_count": 276,
      "outputs": [
        {
          "output_type": "execute_result",
          "data": {
            "text/plain": [
              "Index(['loan_status'], dtype='object')"
            ]
          },
          "metadata": {
            "tags": []
          },
          "execution_count": 276
        }
      ]
    },
    {
      "cell_type": "code",
      "metadata": {
        "id": "J2YI5QtNrIML"
      },
      "source": [
        "df.drop('loan_status',axis=1,inplace=True)"
      ],
      "execution_count": 277,
      "outputs": []
    },
    {
      "cell_type": "code",
      "metadata": {
        "colab": {
          "base_uri": "https://localhost:8080/"
        },
        "id": "NZ3h9dBWrXEN",
        "outputId": "3960cd66-f651-4b7a-9d19-8c4e9503b93a"
      },
      "source": [
        "df.select_dtypes(['object']).columns"
      ],
      "execution_count": 278,
      "outputs": [
        {
          "output_type": "execute_result",
          "data": {
            "text/plain": [
              "Index([], dtype='object')"
            ]
          },
          "metadata": {
            "tags": []
          },
          "execution_count": 278
        }
      ]
    },
    {
      "cell_type": "code",
      "metadata": {
        "colab": {
          "base_uri": "https://localhost:8080/"
        },
        "id": "RJILYd_crY7g",
        "outputId": "67db3f06-3f32-481f-d425-5c391e684874"
      },
      "source": [
        "df.info()"
      ],
      "execution_count": 279,
      "outputs": [
        {
          "output_type": "stream",
          "text": [
            "<class 'pandas.core.frame.DataFrame'>\n",
            "Int64Index: 395219 entries, 0 to 396029\n",
            "Data columns (total 79 columns):\n",
            " #   Column                               Non-Null Count   Dtype  \n",
            "---  ------                               --------------   -----  \n",
            " 0   loan_amnt                            395219 non-null  float64\n",
            " 1   term                                 395219 non-null  int64  \n",
            " 2   int_rate                             395219 non-null  float64\n",
            " 3   installment                          395219 non-null  float64\n",
            " 4   annual_inc                           395219 non-null  float64\n",
            " 5   dti                                  395219 non-null  float64\n",
            " 6   open_acc                             395219 non-null  float64\n",
            " 7   pub_rec                              395219 non-null  float64\n",
            " 8   revol_bal                            395219 non-null  float64\n",
            " 9   revol_util                           395219 non-null  float64\n",
            " 10  total_acc                            395219 non-null  float64\n",
            " 11  mort_acc                             395219 non-null  float64\n",
            " 12  pub_rec_bankruptcies                 395219 non-null  float64\n",
            " 13  loan_repaid                          395219 non-null  int64  \n",
            " 14  A2                                   395219 non-null  uint8  \n",
            " 15  A3                                   395219 non-null  uint8  \n",
            " 16  A4                                   395219 non-null  uint8  \n",
            " 17  A5                                   395219 non-null  uint8  \n",
            " 18  B1                                   395219 non-null  uint8  \n",
            " 19  B2                                   395219 non-null  uint8  \n",
            " 20  B3                                   395219 non-null  uint8  \n",
            " 21  B4                                   395219 non-null  uint8  \n",
            " 22  B5                                   395219 non-null  uint8  \n",
            " 23  C1                                   395219 non-null  uint8  \n",
            " 24  C2                                   395219 non-null  uint8  \n",
            " 25  C3                                   395219 non-null  uint8  \n",
            " 26  C4                                   395219 non-null  uint8  \n",
            " 27  C5                                   395219 non-null  uint8  \n",
            " 28  D1                                   395219 non-null  uint8  \n",
            " 29  D2                                   395219 non-null  uint8  \n",
            " 30  D3                                   395219 non-null  uint8  \n",
            " 31  D4                                   395219 non-null  uint8  \n",
            " 32  D5                                   395219 non-null  uint8  \n",
            " 33  E1                                   395219 non-null  uint8  \n",
            " 34  E2                                   395219 non-null  uint8  \n",
            " 35  E3                                   395219 non-null  uint8  \n",
            " 36  E4                                   395219 non-null  uint8  \n",
            " 37  E5                                   395219 non-null  uint8  \n",
            " 38  F1                                   395219 non-null  uint8  \n",
            " 39  F2                                   395219 non-null  uint8  \n",
            " 40  F3                                   395219 non-null  uint8  \n",
            " 41  F4                                   395219 non-null  uint8  \n",
            " 42  F5                                   395219 non-null  uint8  \n",
            " 43  G1                                   395219 non-null  uint8  \n",
            " 44  G2                                   395219 non-null  uint8  \n",
            " 45  G3                                   395219 non-null  uint8  \n",
            " 46  G4                                   395219 non-null  uint8  \n",
            " 47  G5                                   395219 non-null  uint8  \n",
            " 48  OTHER                                395219 non-null  uint8  \n",
            " 49  OWN                                  395219 non-null  uint8  \n",
            " 50  RENT                                 395219 non-null  uint8  \n",
            " 51  05113                                395219 non-null  uint8  \n",
            " 52  11650                                395219 non-null  uint8  \n",
            " 53  22690                                395219 non-null  uint8  \n",
            " 54  29597                                395219 non-null  uint8  \n",
            " 55  30723                                395219 non-null  uint8  \n",
            " 56  48052                                395219 non-null  uint8  \n",
            " 57  70466                                395219 non-null  uint8  \n",
            " 58  86630                                395219 non-null  uint8  \n",
            " 59  93700                                395219 non-null  uint8  \n",
            " 60  earliest_cr_year                     395219 non-null  int64  \n",
            " 61  verification_status_Source Verified  395219 non-null  uint8  \n",
            " 62  verification_status_Verified         395219 non-null  uint8  \n",
            " 63  application_type_INDIVIDUAL          395219 non-null  uint8  \n",
            " 64  application_type_JOINT               395219 non-null  uint8  \n",
            " 65  initial_list_status_w                395219 non-null  uint8  \n",
            " 66  purpose_credit_card                  395219 non-null  uint8  \n",
            " 67  purpose_debt_consolidation           395219 non-null  uint8  \n",
            " 68  purpose_educational                  395219 non-null  uint8  \n",
            " 69  purpose_home_improvement             395219 non-null  uint8  \n",
            " 70  purpose_house                        395219 non-null  uint8  \n",
            " 71  purpose_major_purchase               395219 non-null  uint8  \n",
            " 72  purpose_medical                      395219 non-null  uint8  \n",
            " 73  purpose_moving                       395219 non-null  uint8  \n",
            " 74  purpose_other                        395219 non-null  uint8  \n",
            " 75  purpose_renewable_energy             395219 non-null  uint8  \n",
            " 76  purpose_small_business               395219 non-null  uint8  \n",
            " 77  purpose_vacation                     395219 non-null  uint8  \n",
            " 78  purpose_wedding                      395219 non-null  uint8  \n",
            "dtypes: float64(12), int64(3), uint8(64)\n",
            "memory usage: 72.4 MB\n"
          ],
          "name": "stdout"
        }
      ]
    },
    {
      "cell_type": "markdown",
      "metadata": {
        "id": "oMe3VYO3ru0j"
      },
      "source": [
        "Train test split "
      ]
    },
    {
      "cell_type": "code",
      "metadata": {
        "id": "Gsqo7zRUralT"
      },
      "source": [
        "from sklearn.model_selection import train_test_split"
      ],
      "execution_count": 280,
      "outputs": []
    },
    {
      "cell_type": "code",
      "metadata": {
        "id": "t7Sf5zb1r6G-"
      },
      "source": [
        "X = df.drop('loan_repaid',axis=1).values\n",
        "y = df['loan_repaid'].values"
      ],
      "execution_count": 307,
      "outputs": []
    },
    {
      "cell_type": "code",
      "metadata": {
        "id": "nti-mMm4sFOU"
      },
      "source": [
        "X_train,X_test,y_train,y_test = train_test_split(X,y,random_state=101,test_size=0.2)"
      ],
      "execution_count": 308,
      "outputs": []
    },
    {
      "cell_type": "markdown",
      "metadata": {
        "id": "ZqA2sZyQsawp"
      },
      "source": [
        "Normalizing the data "
      ]
    },
    {
      "cell_type": "code",
      "metadata": {
        "id": "BXYESpXasRHX"
      },
      "source": [
        "from sklearn.preprocessing import MinMaxScaler"
      ],
      "execution_count": 309,
      "outputs": []
    },
    {
      "cell_type": "code",
      "metadata": {
        "id": "Nr1zWlvusiAc"
      },
      "source": [
        "scaler = MinMaxScaler()"
      ],
      "execution_count": 310,
      "outputs": []
    },
    {
      "cell_type": "code",
      "metadata": {
        "id": "jTEq1rlNsj6w"
      },
      "source": [
        "X_train = scaler.fit_transform(X_train)\n",
        "X_test = scaler.transform(X_test)"
      ],
      "execution_count": 311,
      "outputs": []
    },
    {
      "cell_type": "markdown",
      "metadata": {
        "id": "ocT1lqYDsvgt"
      },
      "source": [
        "Model Creation"
      ]
    },
    {
      "cell_type": "code",
      "metadata": {
        "id": "ei0-8ysisu1_"
      },
      "source": [
        "from tensorflow.keras.models import Sequential\n",
        "from tensorflow.keras.layers import Dense,Dropout"
      ],
      "execution_count": 312,
      "outputs": []
    },
    {
      "cell_type": "code",
      "metadata": {
        "id": "wpFtSW-uu_VG"
      },
      "source": [
        "model = Sequential()"
      ],
      "execution_count": 313,
      "outputs": []
    },
    {
      "cell_type": "code",
      "metadata": {
        "colab": {
          "base_uri": "https://localhost:8080/"
        },
        "id": "I72bOpEYvKLH",
        "outputId": "3b9032ac-acbd-4ec7-f6f1-b78082a74746"
      },
      "source": [
        "X_train.shape"
      ],
      "execution_count": 314,
      "outputs": [
        {
          "output_type": "execute_result",
          "data": {
            "text/plain": [
              "(316175, 78)"
            ]
          },
          "metadata": {
            "tags": []
          },
          "execution_count": 314
        }
      ]
    },
    {
      "cell_type": "code",
      "metadata": {
        "id": "WwPyIx71vOZO"
      },
      "source": [
        "model.add(Dense(78,activation='relu'))\n",
        "model.add(Dropout(0.2))\n",
        "model.add(Dense(39,activation='relu'))\n",
        "model.add(Dropout(0.2))\n",
        "model.add(Dense(19,activation='relu'))\n",
        "model.add(Dropout(0.2))\n",
        "\n",
        "model.add(Dense(1,activation='sigmoid'))\n"
      ],
      "execution_count": 315,
      "outputs": []
    },
    {
      "cell_type": "code",
      "metadata": {
        "id": "hfo3qtHJvuRz"
      },
      "source": [
        "model.compile(loss='binary_crossentropy',optimizer='adam')"
      ],
      "execution_count": 316,
      "outputs": []
    },
    {
      "cell_type": "code",
      "metadata": {
        "colab": {
          "base_uri": "https://localhost:8080/"
        },
        "id": "uKg6NnJ0v6E1",
        "outputId": "f5b6ccb5-b917-4c05-ed10-086b149e9162"
      },
      "source": [
        "model.fit(x=X_train, \n",
        "          y=y_train, \n",
        "          epochs=25,\n",
        "          batch_size=256,\n",
        "          validation_data=(X_test, y_test), \n",
        "          )#batch size used because of huge data"
      ],
      "execution_count": 317,
      "outputs": [
        {
          "output_type": "stream",
          "text": [
            "Epoch 1/25\n",
            "1236/1236 [==============================] - 3s 3ms/step - loss: 0.3001 - val_loss: 0.2649\n",
            "Epoch 2/25\n",
            "1236/1236 [==============================] - 3s 3ms/step - loss: 0.2658 - val_loss: 0.2627\n",
            "Epoch 3/25\n",
            "1236/1236 [==============================] - 3s 3ms/step - loss: 0.2629 - val_loss: 0.2624\n",
            "Epoch 4/25\n",
            "1236/1236 [==============================] - 3s 3ms/step - loss: 0.2618 - val_loss: 0.2622\n",
            "Epoch 5/25\n",
            "1236/1236 [==============================] - 3s 3ms/step - loss: 0.2607 - val_loss: 0.2626\n",
            "Epoch 6/25\n",
            "1236/1236 [==============================] - 3s 3ms/step - loss: 0.2603 - val_loss: 0.2618\n",
            "Epoch 7/25\n",
            "1236/1236 [==============================] - 3s 3ms/step - loss: 0.2598 - val_loss: 0.2617\n",
            "Epoch 8/25\n",
            "1236/1236 [==============================] - 3s 3ms/step - loss: 0.2596 - val_loss: 0.2615\n",
            "Epoch 9/25\n",
            "1236/1236 [==============================] - 3s 3ms/step - loss: 0.2590 - val_loss: 0.2626\n",
            "Epoch 10/25\n",
            "1236/1236 [==============================] - 3s 3ms/step - loss: 0.2588 - val_loss: 0.2613\n",
            "Epoch 11/25\n",
            "1236/1236 [==============================] - 3s 3ms/step - loss: 0.2588 - val_loss: 0.2612\n",
            "Epoch 12/25\n",
            "1236/1236 [==============================] - 3s 3ms/step - loss: 0.2582 - val_loss: 0.2614\n",
            "Epoch 13/25\n",
            "1236/1236 [==============================] - 3s 3ms/step - loss: 0.2582 - val_loss: 0.2620\n",
            "Epoch 14/25\n",
            "1236/1236 [==============================] - 3s 3ms/step - loss: 0.2579 - val_loss: 0.2612\n",
            "Epoch 15/25\n",
            "1236/1236 [==============================] - 3s 3ms/step - loss: 0.2579 - val_loss: 0.2614\n",
            "Epoch 16/25\n",
            "1236/1236 [==============================] - 3s 3ms/step - loss: 0.2575 - val_loss: 0.2613\n",
            "Epoch 17/25\n",
            "1236/1236 [==============================] - 3s 3ms/step - loss: 0.2574 - val_loss: 0.2611\n",
            "Epoch 18/25\n",
            "1236/1236 [==============================] - 3s 3ms/step - loss: 0.2575 - val_loss: 0.2610\n",
            "Epoch 19/25\n",
            "1236/1236 [==============================] - 3s 3ms/step - loss: 0.2572 - val_loss: 0.2610\n",
            "Epoch 20/25\n",
            "1236/1236 [==============================] - 3s 3ms/step - loss: 0.2569 - val_loss: 0.2610\n",
            "Epoch 21/25\n",
            "1236/1236 [==============================] - 3s 3ms/step - loss: 0.2568 - val_loss: 0.2611\n",
            "Epoch 22/25\n",
            "1236/1236 [==============================] - 3s 3ms/step - loss: 0.2565 - val_loss: 0.2614\n",
            "Epoch 23/25\n",
            "1236/1236 [==============================] - 3s 3ms/step - loss: 0.2566 - val_loss: 0.2622\n",
            "Epoch 24/25\n",
            "1236/1236 [==============================] - 3s 3ms/step - loss: 0.2562 - val_loss: 0.2606\n",
            "Epoch 25/25\n",
            "1236/1236 [==============================] - 3s 3ms/step - loss: 0.2559 - val_loss: 0.2615\n"
          ],
          "name": "stdout"
        },
        {
          "output_type": "execute_result",
          "data": {
            "text/plain": [
              "<tensorflow.python.keras.callbacks.History at 0x7f29ca418dd8>"
            ]
          },
          "metadata": {
            "tags": []
          },
          "execution_count": 317
        }
      ]
    },
    {
      "cell_type": "code",
      "metadata": {
        "id": "o2sGIHVBwPOh"
      },
      "source": [
        "from tensorflow.keras.models import load_model"
      ],
      "execution_count": 319,
      "outputs": []
    },
    {
      "cell_type": "code",
      "metadata": {
        "id": "zL_6JWMI0upy"
      },
      "source": [
        "model.save('lending_loan_project.h5')\n"
      ],
      "execution_count": 320,
      "outputs": []
    },
    {
      "cell_type": "code",
      "metadata": {
        "id": "j-Le9VsL1IxG"
      },
      "source": [
        "losses = pd.DataFrame(model.history.history)\n"
      ],
      "execution_count": 321,
      "outputs": []
    },
    {
      "cell_type": "code",
      "metadata": {
        "colab": {
          "base_uri": "https://localhost:8080/",
          "height": 787
        },
        "id": "xh6Yb6Q51SCS",
        "outputId": "040b21bb-6b9c-4865-de93-d12d342a1327"
      },
      "source": [
        "losses"
      ],
      "execution_count": 322,
      "outputs": [
        {
          "output_type": "execute_result",
          "data": {
            "text/html": [
              "<div>\n",
              "<style scoped>\n",
              "    .dataframe tbody tr th:only-of-type {\n",
              "        vertical-align: middle;\n",
              "    }\n",
              "\n",
              "    .dataframe tbody tr th {\n",
              "        vertical-align: top;\n",
              "    }\n",
              "\n",
              "    .dataframe thead th {\n",
              "        text-align: right;\n",
              "    }\n",
              "</style>\n",
              "<table border=\"1\" class=\"dataframe\">\n",
              "  <thead>\n",
              "    <tr style=\"text-align: right;\">\n",
              "      <th></th>\n",
              "      <th>loss</th>\n",
              "      <th>val_loss</th>\n",
              "    </tr>\n",
              "  </thead>\n",
              "  <tbody>\n",
              "    <tr>\n",
              "      <th>0</th>\n",
              "      <td>0.300054</td>\n",
              "      <td>0.264912</td>\n",
              "    </tr>\n",
              "    <tr>\n",
              "      <th>1</th>\n",
              "      <td>0.265832</td>\n",
              "      <td>0.262694</td>\n",
              "    </tr>\n",
              "    <tr>\n",
              "      <th>2</th>\n",
              "      <td>0.262899</td>\n",
              "      <td>0.262445</td>\n",
              "    </tr>\n",
              "    <tr>\n",
              "      <th>3</th>\n",
              "      <td>0.261768</td>\n",
              "      <td>0.262186</td>\n",
              "    </tr>\n",
              "    <tr>\n",
              "      <th>4</th>\n",
              "      <td>0.260715</td>\n",
              "      <td>0.262614</td>\n",
              "    </tr>\n",
              "    <tr>\n",
              "      <th>5</th>\n",
              "      <td>0.260303</td>\n",
              "      <td>0.261802</td>\n",
              "    </tr>\n",
              "    <tr>\n",
              "      <th>6</th>\n",
              "      <td>0.259784</td>\n",
              "      <td>0.261675</td>\n",
              "    </tr>\n",
              "    <tr>\n",
              "      <th>7</th>\n",
              "      <td>0.259581</td>\n",
              "      <td>0.261549</td>\n",
              "    </tr>\n",
              "    <tr>\n",
              "      <th>8</th>\n",
              "      <td>0.258964</td>\n",
              "      <td>0.262572</td>\n",
              "    </tr>\n",
              "    <tr>\n",
              "      <th>9</th>\n",
              "      <td>0.258847</td>\n",
              "      <td>0.261330</td>\n",
              "    </tr>\n",
              "    <tr>\n",
              "      <th>10</th>\n",
              "      <td>0.258822</td>\n",
              "      <td>0.261154</td>\n",
              "    </tr>\n",
              "    <tr>\n",
              "      <th>11</th>\n",
              "      <td>0.258225</td>\n",
              "      <td>0.261352</td>\n",
              "    </tr>\n",
              "    <tr>\n",
              "      <th>12</th>\n",
              "      <td>0.258153</td>\n",
              "      <td>0.262045</td>\n",
              "    </tr>\n",
              "    <tr>\n",
              "      <th>13</th>\n",
              "      <td>0.257920</td>\n",
              "      <td>0.261177</td>\n",
              "    </tr>\n",
              "    <tr>\n",
              "      <th>14</th>\n",
              "      <td>0.257919</td>\n",
              "      <td>0.261381</td>\n",
              "    </tr>\n",
              "    <tr>\n",
              "      <th>15</th>\n",
              "      <td>0.257528</td>\n",
              "      <td>0.261312</td>\n",
              "    </tr>\n",
              "    <tr>\n",
              "      <th>16</th>\n",
              "      <td>0.257412</td>\n",
              "      <td>0.261121</td>\n",
              "    </tr>\n",
              "    <tr>\n",
              "      <th>17</th>\n",
              "      <td>0.257450</td>\n",
              "      <td>0.261025</td>\n",
              "    </tr>\n",
              "    <tr>\n",
              "      <th>18</th>\n",
              "      <td>0.257189</td>\n",
              "      <td>0.260953</td>\n",
              "    </tr>\n",
              "    <tr>\n",
              "      <th>19</th>\n",
              "      <td>0.256863</td>\n",
              "      <td>0.261001</td>\n",
              "    </tr>\n",
              "    <tr>\n",
              "      <th>20</th>\n",
              "      <td>0.256849</td>\n",
              "      <td>0.261092</td>\n",
              "    </tr>\n",
              "    <tr>\n",
              "      <th>21</th>\n",
              "      <td>0.256501</td>\n",
              "      <td>0.261382</td>\n",
              "    </tr>\n",
              "    <tr>\n",
              "      <th>22</th>\n",
              "      <td>0.256634</td>\n",
              "      <td>0.262153</td>\n",
              "    </tr>\n",
              "    <tr>\n",
              "      <th>23</th>\n",
              "      <td>0.256211</td>\n",
              "      <td>0.260647</td>\n",
              "    </tr>\n",
              "    <tr>\n",
              "      <th>24</th>\n",
              "      <td>0.255937</td>\n",
              "      <td>0.261495</td>\n",
              "    </tr>\n",
              "  </tbody>\n",
              "</table>\n",
              "</div>"
            ],
            "text/plain": [
              "        loss  val_loss\n",
              "0   0.300054  0.264912\n",
              "1   0.265832  0.262694\n",
              "2   0.262899  0.262445\n",
              "3   0.261768  0.262186\n",
              "4   0.260715  0.262614\n",
              "5   0.260303  0.261802\n",
              "6   0.259784  0.261675\n",
              "7   0.259581  0.261549\n",
              "8   0.258964  0.262572\n",
              "9   0.258847  0.261330\n",
              "10  0.258822  0.261154\n",
              "11  0.258225  0.261352\n",
              "12  0.258153  0.262045\n",
              "13  0.257920  0.261177\n",
              "14  0.257919  0.261381\n",
              "15  0.257528  0.261312\n",
              "16  0.257412  0.261121\n",
              "17  0.257450  0.261025\n",
              "18  0.257189  0.260953\n",
              "19  0.256863  0.261001\n",
              "20  0.256849  0.261092\n",
              "21  0.256501  0.261382\n",
              "22  0.256634  0.262153\n",
              "23  0.256211  0.260647\n",
              "24  0.255937  0.261495"
            ]
          },
          "metadata": {
            "tags": []
          },
          "execution_count": 322
        }
      ]
    },
    {
      "cell_type": "code",
      "metadata": {
        "colab": {
          "base_uri": "https://localhost:8080/",
          "height": 282
        },
        "id": "sfbX5WTN1TIH",
        "outputId": "c978b65b-4e98-4f20-d242-8a383b00a632"
      },
      "source": [
        "losses.plot()"
      ],
      "execution_count": 323,
      "outputs": [
        {
          "output_type": "execute_result",
          "data": {
            "text/plain": [
              "<matplotlib.axes._subplots.AxesSubplot at 0x7f29c745d390>"
            ]
          },
          "metadata": {
            "tags": []
          },
          "execution_count": 323
        },
        {
          "output_type": "display_data",
          "data": {
            "image/png": "[encoded data removed]",
            "text/plain": [
              "<Figure size 432x288 with 1 Axes>"
            ]
          },
          "metadata": {
            "tags": [],
            "needs_background": "light"
          }
        }
      ]
    },
    {
      "cell_type": "code",
      "metadata": {
        "id": "oj4ZCJLJ1VZh"
      },
      "source": [
        "from sklearn.metrics import classification_report,confusion_matrix"
      ],
      "execution_count": 324,
      "outputs": []
    },
    {
      "cell_type": "code",
      "metadata": {
        "colab": {
          "base_uri": "https://localhost:8080/"
        },
        "id": "032To_W91g1q",
        "outputId": "76a98e08-002f-4247-dd65-dd4eb5609368"
      },
      "source": [
        "pred = model.predict_classes(X_test)"
      ],
      "execution_count": 325,
      "outputs": [
        {
          "output_type": "stream",
          "text": [
            "WARNING:tensorflow:From <ipython-input-325-a3e3e5c68c66>:1: Sequential.predict_classes (from tensorflow.python.keras.engine.sequential) is deprecated and will be removed after 2021-01-01.\n",
            "Instructions for updating:\n",
            "Please use instead:* `np.argmax(model.predict(x), axis=-1)`,   if your model does multi-class classification   (e.g. if it uses a `softmax` last-layer activation).* `(model.predict(x) > 0.5).astype(\"int32\")`,   if your model does binary classification   (e.g. if it uses a `sigmoid` last-layer activation).\n"
          ],
          "name": "stdout"
        }
      ]
    },
    {
      "cell_type": "code",
      "metadata": {
        "colab": {
          "base_uri": "https://localhost:8080/"
        },
        "id": "A8S4DJsf1qtM",
        "outputId": "7c39f77d-2ad1-4dea-d7bc-e5e2b4410db6"
      },
      "source": [
        "print(classification_report(y_test,pred))\n",
        "print(confusion_matrix(y_test,pred))"
      ],
      "execution_count": 326,
      "outputs": [
        {
          "output_type": "stream",
          "text": [
            "              precision    recall  f1-score   support\n",
            "\n",
            "           0       0.99      0.43      0.60     15658\n",
            "           1       0.88      1.00      0.93     63386\n",
            "\n",
            "    accuracy                           0.89     79044\n",
            "   macro avg       0.94      0.72      0.77     79044\n",
            "weighted avg       0.90      0.89      0.87     79044\n",
            "\n",
            "[[ 6778  8880]\n",
            " [   38 63348]]\n"
          ],
          "name": "stdout"
        }
      ]
    },
    {
      "cell_type": "code",
      "metadata": {
        "id": "S0EKLrR41z2q"
      },
      "source": [
        "#strong performance but 8880 were wrongly labeled"
      ],
      "execution_count": 327,
      "outputs": []
    },
    {
      "cell_type": "code",
      "metadata": {
        "id": "MO1nVbtz16Xt"
      },
      "source": [
        "import random\n",
        "random.seed(101)\n",
        "random_ind = random.randint(0,len(df))\n"
      ],
      "execution_count": 328,
      "outputs": []
    },
    {
      "cell_type": "code",
      "metadata": {
        "colab": {
          "base_uri": "https://localhost:8080/"
        },
        "id": "o1OyLKOB2Qvd",
        "outputId": "3739820f-0d3d-4d91-fa66-7f9b3e39060a"
      },
      "source": [
        "new_customer = df.drop('loan_repaid',axis=1).iloc[random_ind]\n",
        "new_customer"
      ],
      "execution_count": 329,
      "outputs": [
        {
          "output_type": "execute_result",
          "data": {
            "text/plain": [
              "loan_amnt                   25000.00\n",
              "term                           60.00\n",
              "int_rate                       18.24\n",
              "installment                   638.11\n",
              "annual_inc                  61665.00\n",
              "                              ...   \n",
              "purpose_other                   0.00\n",
              "purpose_renewable_energy        0.00\n",
              "purpose_small_business          0.00\n",
              "purpose_vacation                0.00\n",
              "purpose_wedding                 0.00\n",
              "Name: 305323, Length: 78, dtype: float64"
            ]
          },
          "metadata": {
            "tags": []
          },
          "execution_count": 329
        }
      ]
    },
    {
      "cell_type": "code",
      "metadata": {
        "colab": {
          "base_uri": "https://localhost:8080/"
        },
        "id": "HUXVR1l82cXU",
        "outputId": "0d2b1c55-04a0-4dd3-96a2-50b62553ba65"
      },
      "source": [
        "model.predict_classes(new_customer.values.reshape(1,78))"
      ],
      "execution_count": 330,
      "outputs": [
        {
          "output_type": "execute_result",
          "data": {
            "text/plain": [
              "array([[1]], dtype=int32)"
            ]
          },
          "metadata": {
            "tags": []
          },
          "execution_count": 330
        }
      ]
    },
    {
      "cell_type": "code",
      "metadata": {
        "colab": {
          "base_uri": "https://localhost:8080/"
        },
        "id": "Dfgg2c3P2rp6",
        "outputId": "68b1abf0-393c-44e9-c278-d636aea74686"
      },
      "source": [
        "df.iloc[random_ind]['loan_repaid']"
      ],
      "execution_count": 331,
      "outputs": [
        {
          "output_type": "execute_result",
          "data": {
            "text/plain": [
              "1.0"
            ]
          },
          "metadata": {
            "tags": []
          },
          "execution_count": 331
        }
      ]
    },
    {
      "cell_type": "code",
      "metadata": {
        "id": "KkA7yZCE2x3n"
      },
      "source": [
        "#success"
      ],
      "execution_count": 332,
      "outputs": []
    },
    {
      "cell_type": "code",
      "metadata": {
        "id": "NGsKW2pU2zhv"
      },
      "source": [
        ""
      ],
      "execution_count": null,
      "outputs": []
    }
  ]
}